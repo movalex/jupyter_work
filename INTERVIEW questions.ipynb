{
 "cells": [
  {
   "cell_type": "code",
   "execution_count": null,
   "metadata": {},
   "outputs": [],
   "source": [
    "%%HTML\n",
    "<iframe width=\"960\" height=\"480\" src=\"https://www.youtube.com/embed/XKu_SEDAykw\" frameborder=\"0\" allow=\"accelerometer; autoplay; encrypted-media; gyroscope; picture-in-picture\" allowfullscreen></iframe>"
   ]
  },
  {
   "cell_type": "code",
   "execution_count": null,
   "metadata": {},
   "outputs": [],
   "source": [
    "def has_sum(data, target):\n",
    "    low = 0\n",
    "    high = len(data)-1\n",
    "    for _i in range(high):\n",
    "        s = data[low] + data[high]\n",
    "        print(s)\n",
    "        if s == target:\n",
    "            return True\n",
    "        low += 1\n",
    "    return False\n",
    "        \n",
    "#     while low < high:\n",
    "#         s = data[low]+ data[high]\n",
    "#         if s == summa:\n",
    "#             return True\n",
    "#         low += 1\n",
    "test1 = [1,1,1,1,1,1,6,7,9]\n",
    "has_sum(test1, 12)"
   ]
  },
  {
   "cell_type": "code",
   "execution_count": null,
   "metadata": {},
   "outputs": [],
   "source": [
    "test1 = [1,3,3,4,5,6,9]\n",
    "\n",
    "def has_sum(data, target):\n",
    "    low = 0\n",
    "    high = len(data)-1\n",
    "    for _i in range(high):\n",
    "        s = data[low] + data[high]\n",
    "        if s == target:\n",
    "            return True\n",
    "        low += 1\n",
    "    return False\n",
    "\n",
    "has_sum(test1, 11)"
   ]
  },
  {
   "cell_type": "code",
   "execution_count": null,
   "metadata": {
    "collapsed": true
   },
   "outputs": [],
   "source": [
    "test2 = [7,2,29,1,3,1,3,12]\n",
    "def has_sum_unordered(data, target):\n",
    "    cache = set()\n",
    "    for value in data:\n",
    "        if value in cache:\n",
    "            print(f'found {value}')\n",
    "            return True\n",
    "        cache.add(target - value)\n",
    "        print(cache)\n",
    "    return False\n",
    "        \n",
    "has_sum_unordered(test2,41)"
   ]
  },
  {
   "cell_type": "code",
   "execution_count": 22,
   "metadata": {},
   "outputs": [
    {
     "data": {
      "text/plain": [
       "True"
      ]
     },
     "execution_count": 22,
     "metadata": {},
     "output_type": "execute_result"
    }
   ],
   "source": [
    "def is_palindrome1(text):\n",
    "    '''this function reverses whole word and checks if reversed word is the same'''\n",
    "    text = text.replace(\" \",'')\n",
    "    text_length = len(text)\n",
    "    reversed_text = ''\n",
    "    for char in range(text_length):\n",
    "        reversed_text += text[text_length - char - 1]\n",
    "    if reversed_text.lower() == text.lower():\n",
    "        return True\n",
    "    return False\n",
    "    \n",
    "is_palindrome1('ma Dam')"
   ]
  },
  {
   "cell_type": "code",
   "execution_count": 14,
   "metadata": {},
   "outputs": [
    {
     "data": {
      "text/plain": [
       "'sdsdssds'"
      ]
     },
     "execution_count": 14,
     "metadata": {},
     "output_type": "execute_result"
    }
   ],
   "source": [
    "s = 'sdsds sds'\n",
    "s.replace(\" \",'')"
   ]
  },
  {
   "cell_type": "code",
   "execution_count": 31,
   "metadata": {},
   "outputs": [
    {
     "data": {
      "text/plain": [
       "True"
      ]
     },
     "execution_count": 31,
     "metadata": {},
     "output_type": "execute_result"
    }
   ],
   "source": [
    "def is_palindrome2(text):\n",
    "    '''compares start and end characters'''\n",
    "    text = text.replace(\" \",'')\n",
    "    start = 0\n",
    "    end = len(text) - 1\n",
    "    mid = start + end // 2\n",
    "    \n",
    "    for i in range(mid):\n",
    "        if text[start].lower() == text[end].lower():\n",
    "            start += 1\n",
    "            end -= 1\n",
    "        else:\n",
    "            return False\n",
    "    return True\n",
    "\n",
    "is_palindrome2('Air an aria')\n",
    "    "
   ]
  },
  {
   "cell_type": "code",
   "execution_count": 6,
   "metadata": {},
   "outputs": [
    {
     "name": "stdout",
     "output_type": "stream",
     "text": [
      "0 35419 0\n",
      "9 3541 9\n",
      "91 354 1\n",
      "914 35 4\n",
      "9145 3 5\n"
     ]
    },
    {
     "data": {
      "text/plain": [
       "91453"
      ]
     },
     "execution_count": 6,
     "metadata": {},
     "output_type": "execute_result"
    }
   ],
   "source": [
    "def reverse_integer(num):\n",
    "    '''get remainder for num modulo 10, multiply the reversed_number by 10 and add remainder'''\n",
    "    reversed_number = int()\n",
    "    remainder = 0\n",
    "    \n",
    "    while num > 0:\n",
    "        print(reversed_number, num, remainder)\n",
    "        remainder = num % 10\n",
    "        num //= 10\n",
    "        reversed_number = reversed_number * 10 + remainder\n",
    "    return reversed_number\n",
    "\n",
    "reverse_integer(35419)"
   ]
  },
  {
   "cell_type": "code",
   "execution_count": null,
   "metadata": {},
   "outputs": [],
   "source": [
    "import itertools\n",
    "dir(itertools)"
   ]
  },
  {
   "cell_type": "code",
   "execution_count": null,
   "metadata": {},
   "outputs": [],
   "source": [
    "s = [4.3, 10.0, 4,3]\n",
    "e = [3, 1, 3, 6, 1, 3] \n",
    "list(zip(s,e))"
   ]
  },
  {
   "cell_type": "code",
   "execution_count": null,
   "metadata": {},
   "outputs": [],
   "source": [
    "list(itertools.zip_longest(s,e))"
   ]
  },
  {
   "cell_type": "code",
   "execution_count": null,
   "metadata": {},
   "outputs": [],
   "source": [
    "?itertools.zip_longest"
   ]
  },
  {
   "cell_type": "markdown",
   "metadata": {},
   "source": [
    "# Reverse string"
   ]
  },
  {
   "cell_type": "code",
   "execution_count": 105,
   "metadata": {},
   "outputs": [
    {
     "name": "stdout",
     "output_type": "stream",
     "text": [
      "keeg kees kcuf"
     ]
    }
   ],
   "source": [
    "#c++ style\n",
    "def reverse_str(text):\n",
    "    rev = []\n",
    "    for letter in text:\n",
    "        if letter !=' ':\n",
    "            rev.append(letter)\n",
    "        else:\n",
    "            while len(rev) > 0:\n",
    "                print(rev.pop(rev.index(rev[-1])), end='')\n",
    "            print(' ', end='')\n",
    "    while len(rev) > 0:\n",
    "        print(rev.pop(rev.index(rev[-1])), end='')\n",
    "reverse_str('geek seek fuck')"
   ]
  },
  {
   "cell_type": "code",
   "execution_count": 106,
   "metadata": {},
   "outputs": [
    {
     "data": {
      "text/plain": [
       "'kcuf kees keeg'"
      ]
     },
     "execution_count": 106,
     "metadata": {},
     "output_type": "execute_result"
    }
   ],
   "source": [
    "s = 'geek seek fuck'\n",
    "s[::-1]"
   ]
  }
 ],
 "metadata": {
  "kernelspec": {
   "display_name": "Python 3",
   "language": "python",
   "name": "python3"
  },
  "language_info": {
   "codemirror_mode": {
    "name": "ipython",
    "version": 3
   },
   "file_extension": ".py",
   "mimetype": "text/x-python",
   "name": "python",
   "nbconvert_exporter": "python",
   "pygments_lexer": "ipython3",
   "version": "3.7.1"
  }
 },
 "nbformat": 4,
 "nbformat_minor": 2
}
