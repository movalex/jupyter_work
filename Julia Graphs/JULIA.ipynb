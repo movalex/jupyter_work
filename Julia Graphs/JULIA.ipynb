{
 "cells": [
  {
   "cell_type": "code",
   "execution_count": null,
   "metadata": {},
   "outputs": [],
   "source": [
    "versioninfo()"
   ]
  },
  {
   "cell_type": "code",
   "execution_count": 8,
   "metadata": {},
   "outputs": [
    {
     "name": "stdout",
     "output_type": "stream",
     "text": [
      "  0.040224 seconds (40 allocations: 1.648 KiB)\n"
     ]
    },
    {
     "data": {
      "text/plain": [
       "4462912021013684632"
      ]
     },
     "execution_count": 8,
     "metadata": {},
     "output_type": "execute_result"
    }
   ],
   "source": [
    "@time 12220*4893874324234234"
   ]
  },
  {
   "cell_type": "code",
   "execution_count": null,
   "metadata": {},
   "outputs": [],
   "source": [
    "import Pkg; Pkg.add(\"DataFrames\")"
   ]
  },
  {
   "cell_type": "code",
   "execution_count": null,
   "metadata": {},
   "outputs": [],
   "source": [
    "Pkg.update()"
   ]
  },
  {
   "cell_type": "code",
   "execution_count": 1,
   "metadata": {},
   "outputs": [
    {
     "data": {
      "text/html": [
       "<table class=\"data-frame\"><thead><tr><th></th><th>shit</th><th>god</th><th>damn</th></tr></thead><tbody><tr><th>1</th><td>yeeees</td><td>foo</td><td>456</td></tr><tr><th>2</th><td>no</td><td>bar</td><td>33</td></tr><tr><th>3</th><td>maybe</td><td>baz</td><td>kfdjk</td></tr></tbody></table>"
      ],
      "text/plain": [
       "3×3 DataFrame\n",
       "│ Row │ shit   │ god │ damn  │\n",
       "├─────┼────────┼─────┼───────┤\n",
       "│ 1   │ yeeees │ foo │ 456   │\n",
       "│ 2   │ no     │ bar │ 33    │\n",
       "│ 3   │ maybe  │ baz │ kfdjk │"
      ]
     },
     "execution_count": 1,
     "metadata": {},
     "output_type": "execute_result"
    }
   ],
   "source": [
    "using DataFrames\n",
    "df = DataFrame(shit=[\"yeeees\", \"no\", \"maybe\"], god=[\"foo\", \"bar\", \"baz\"], damn=[456,33,\"kfdjk\"])"
   ]
  }
 ],
 "metadata": {
  "kernelspec": {
   "display_name": "Julia 1.0.0",
   "language": "julia",
   "name": "julia-1.0"
  },
  "language_info": {
   "file_extension": ".jl",
   "mimetype": "application/julia",
   "name": "julia",
   "version": "1.0.0"
  }
 },
 "nbformat": 4,
 "nbformat_minor": 2
}
