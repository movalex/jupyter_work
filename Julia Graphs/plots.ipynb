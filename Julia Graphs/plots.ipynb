{
 "cells": [
  {
   "cell_type": "code",
   "execution_count": null,
   "metadata": {},
   "outputs": [],
   "source": [
    "import Pkg; Pkg.add(\"Plots\")"
   ]
  },
  {
   "cell_type": "code",
   "execution_count": null,
   "metadata": {},
   "outputs": [],
   "source": []
  },
  {
   "cell_type": "code",
   "execution_count": null,
   "metadata": {},
   "outputs": [],
   "source": [
    "Pkg.update()\n"
   ]
  },
  {
   "cell_type": "code",
   "execution_count": null,
   "metadata": {},
   "outputs": [
    {
     "name": "stderr",
     "output_type": "stream",
     "text": [
      "┌ Info: Precompiling Plots [91a5bcdd-55d7-5caf-9e0b-520d859cae80]\n",
      "└ @ Base loading.jl:1192\n"
     ]
    }
   ],
   "source": [
    "using Plots\n",
    "Plots.plotlyjs()"
   ]
  },
  {
   "cell_type": "code",
   "execution_count": null,
   "metadata": {
    "scrolled": false
   },
   "outputs": [],
   "source": [
    "x = linspace(0, 10, 100)\n",
    "y = cos.(x)\n",
    "Plots.plot(x, y, color=:blue, linewidth=1, label=\"sine\")"
   ]
  },
  {
   "cell_type": "code",
   "execution_count": null,
   "metadata": {
    "scrolled": true
   },
   "outputs": [],
   "source": [
    "# pyplot_piechart.jl\n",
    "#\n",
    "#\tDemonstrate plotting of pie charts\n",
    "#\n",
    "# gizmaa (https://gist.github.com/gizmaa/7214002)\n",
    "\n",
    "\n",
    "using PyPlot\n",
    "\n",
    "#################\n",
    "#  Create Data  #\n",
    "#################\n",
    "labels = [\"Bigger\";\"Pilsner\";\"Stout\";\"IPA\"]\n",
    "colors = [\"yellowgreen\";\"gold\";\"lightskyblue\";\"lightcoral\"]\n",
    "sizes = NaN*zeros(4)\n",
    "m = zeros(4)\n",
    "explode = zeros(length(sizes))\n",
    "println(explode)\n",
    "explode[2] = 0.1 # Move slice 2 out by 0.1\n",
    "sizes = [15; 30; 45; 10]\n",
    "font = Dict(\"fontname\"=>\"Sans\",\"weight\"=>\"semibold\")\n",
    "\n",
    "###############\n",
    "#  Pie Chart  #\n",
    "###############\n",
    "fig = figure(\"pyplot_piechart\",figsize=(10,10))\n",
    "p = pie(sizes,\n",
    "\t\tlabels=labels,\n",
    "\t\tshadow=true,\n",
    "\t\tstartangle=90,\n",
    "\t\texplode=explode,\n",
    "\t\tcolors=colors,\n",
    "\t\tautopct=\"%1.1f%%\",\n",
    "\t\ttextprops=font)\n",
    "\n",
    "axis(\"equal\")\n",
    "title(\"Beer\")"
   ]
  },
  {
   "cell_type": "code",
   "execution_count": null,
   "metadata": {},
   "outputs": [],
   "source": [
    "# pyplot_multiaxis.jl\n",
    "#\n",
    "#\tDemonstrate use of multiple overlapping axes\n",
    "#\n",
    "# gizmaa (https://gist.github.com/gizmaa/7214002)\n",
    "# Julia 0.5.0\n",
    "# 19.12.13\n",
    "# Last Edit: 20.10.16\n",
    "\n",
    "using PyPlot\n",
    "\n",
    "##################\n",
    "#  Make Up Data  #\n",
    "##################\n",
    "n = 15 # Number of values\n",
    "\n",
    "x = [1:n;]\n",
    "y1 = 10rand(n,1) - 2\n",
    "y2 = 1000rand(n,1)\n",
    "y3 = 30rand(n,1) - 15\n",
    "\n",
    "##########\n",
    "#  Plot  #\n",
    "##########\n",
    "fig = figure(\"pyplot_multiaxis\",figsize=(10,10))\n",
    "p = plot(x,y1,linestyle=\"-\",marker=\"o\",label=\"First\") # Plot a basic line\n",
    "ax = gca()\n",
    "title(\"Multi-axis Plot\")\n",
    "\n",
    "xlabel(\"X Axis\")\n",
    "font1 = Dict(\"color\"=>\"blue\")\n",
    "ylabel(\"Left Axis\",fontdict=font1)\n",
    "setp(ax[:get_yticklabels](),color=\"blue\") # Y Axis font formatting\n",
    "\n",
    "################\n",
    "#  Other Axes  #\n",
    "################\n",
    "new_position = [0.06;0.06;0.77;0.91] # Position Method 2\n",
    "ax[:set_position](new_position) # Position Method 2: Change the size and position of the axis\n",
    "#fig[:subplots_adjust](right=0.85) # Position Method 1\n",
    "\n",
    "ax2 = ax[:twinx]() # Create another axis on top of the current axis\n",
    "font2 = Dict(\"color\"=>\"purple\")\n",
    "ylabel(\"Right Axis\",fontdict=font2)\n",
    "p = plot_date(x,y2,color=\"purple\",linestyle=\"-\",marker=\"o\",label=\"Second\") # Plot a basic line\n",
    "ax2[:set_position](new_position) # Position Method 2\n",
    "setp(ax2[:get_yticklabels](),color=\"purple\") # Y Axis font formatting\n",
    "\n",
    "ax3 = ax[:twinx]() # Create another axis on top of the current axis\n",
    "ax3[:spines][\"right\"][:set_position]((\"axes\",1.12)) # Offset the y-axis label from the axis itself so it doesn't overlap the second axis\n",
    "font3 = Dict(\"color\"=>\"green\")\n",
    "ylabel(\"Far Right Axis\",fontdict=font3)\n",
    "p = plot_date(x,y3,color=\"green\",linestyle=\"-\",marker=\"o\",label=\"Third\") # Plot a basic line\n",
    "ax3[:set_position](new_position) # Position Method 2\n",
    "setp(ax3[:get_yticklabels](),color=\"green\") # Y Axis font formatting\n",
    "\n",
    "axis(\"tight\")\n",
    "\n",
    "# Enable just the right part of the frame\n",
    "ax3[:set_frame_on](true) # Make the entire frame visible\n",
    "ax3[:patch][:set_visible](false) # Make the patch (background) invisible so it doesn't cover up the other axes' plots\n",
    "ax3[:spines][\"top\"][:set_visible](false) # Hide the top edge of the axis\n",
    "ax3[:spines][\"bottom\"][:set_visible](false) # Hide the bottom edge of the axis\n",
    "\n",
    "fig[:canvas][:draw]() # Update the figure"
   ]
  },
  {
   "cell_type": "code",
   "execution_count": null,
   "metadata": {},
   "outputs": [],
   "source": [
    "# pyplot_axis_placement.jl\n",
    "#\n",
    "#\tDemonstrate the placement of axes\n",
    "#\n",
    "# gizmaa (https://gist.github.com/gizmaa/7214002)\n",
    "# Julia 0.5.0\n",
    "# 20.12.13\n",
    "# Last Edit: 20.10.16\n",
    "\n",
    "using PyPlot\n",
    "\n",
    "###################\n",
    "#  Generate Data  #\n",
    "###################\n",
    "x = [0:pi/50:2pi;]\n",
    "y = sin(x)\n",
    "\n",
    "###############\n",
    "#  Plot Data  #\n",
    "###############\n",
    "fig = figure(\"pyplot_axis_placement\",figsize=(10,10))\n",
    "subplot(211)\n",
    "p = plot(x,y)\n",
    "ax = gca()\n",
    "axis(\"tight\")\n",
    "ax[:spines][\"top\"][:set_visible](false) # Hide the top edge of the axis\n",
    "ax[:spines][\"right\"][:set_visible](false) # Hide the right edge of the axis\n",
    "ax[:spines][\"left\"][:set_position](\"center\") # Move the right axis to the center\n",
    "ax[:spines][\"bottom\"][:set_position](\"center\") # Most the bottom axis to the center\n",
    "#ax[:spines][\"left\"][:set_smart_bounds](true)\n",
    "ax[:xaxis][:set_ticks_position](\"bottom\") # Set the x-ticks to only the bottom\n",
    "ax[:yaxis][:set_ticks_position](\"left\") # Set the y-ticks to only the left\n",
    "\n",
    "subplot(212)\n",
    "p = plot(x,y)\n",
    "ax2 = gca()\n",
    "axis(\"tight\")\n",
    "ax2[:spines][\"top\"][:set_visible](false) # Hide the top edge of the axis\n",
    "ax2[:spines][\"right\"][:set_visible](false) # Hide the right edge of the axis\n",
    "ax2[:xaxis][:set_ticks_position](\"bottom\")\n",
    "ax2[:yaxis][:set_ticks_position](\"left\")\n",
    "ax2[:spines][\"left\"][:set_position]((\"axes\",-0.03)) # Offset the left scale from the axis\n",
    "ax2[:spines][\"bottom\"][:set_position]((\"axes\",-0.05)) # Offset the bottom scale from the axis\n",
    "xlabel(\"X Axis\")\n",
    "ylabel(\"Y Axis\")\n",
    "\n",
    "suptitle(\"Axis Placement\")"
   ]
  },
  {
   "cell_type": "code",
   "execution_count": null,
   "metadata": {},
   "outputs": [],
   "source": []
  }
 ],
 "metadata": {
  "kernelspec": {
   "display_name": "Julia 1.0.3",
   "language": "julia",
   "name": "julia-1.0"
  },
  "language_info": {
   "file_extension": ".jl",
   "mimetype": "application/julia",
   "name": "julia",
   "version": "1.0.3"
  }
 },
 "nbformat": 4,
 "nbformat_minor": 2
}
