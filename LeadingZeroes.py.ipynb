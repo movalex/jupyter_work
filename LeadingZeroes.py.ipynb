{
 "cells": [
  {
   "cell_type": "code",
   "execution_count": 6,
   "metadata": {},
   "outputs": [
    {
     "name": "stdout",
     "output_type": "stream",
     "text": [
      "ep03\n",
      "ep03\n",
      "ep03\n",
      "ep03\n",
      "ep03\n",
      "ep03\n"
     ]
    }
   ],
   "source": [
    "s = 3\n",
    "print('ep' + '%02d' % s)\n",
    "print('ep' + format(s, '02d'))\n",
    "print('ep' + '{:02}'.format(s))\n",
    "print('ep' + str(s).zfill(2))\n",
    "print('ep' + str(s).rjust(2, '0'))\n",
    "print(f'ep{s:02}')"
   ]
  },
  {
   "cell_type": "code",
   "execution_count": 7,
   "metadata": {},
   "outputs": [
    {
     "name": "stdout",
     "output_type": "stream",
     "text": [
      "1.135\n"
     ]
    }
   ],
   "source": [
    "test = 1.135356346\n",
    "print('{:.3f}'.format(test))"
   ]
  },
  {
   "cell_type": "code",
   "execution_count": 8,
   "metadata": {},
   "outputs": [
    {
     "name": "stdout",
     "output_type": "stream",
     "text": [
      "1.135\n"
     ]
    }
   ],
   "source": [
    "print(f'{test:.3f}')"
   ]
  }
 ],
 "metadata": {
  "kernelspec": {
   "display_name": "Python 3",
   "language": "python",
   "name": "python3"
  },
  "language_info": {
   "codemirror_mode": {
    "name": "ipython",
    "version": 3
   },
   "file_extension": ".py",
   "mimetype": "text/x-python",
   "name": "python",
   "nbconvert_exporter": "python",
   "pygments_lexer": "ipython3",
   "version": "3.7.1"
  }
 },
 "nbformat": 4,
 "nbformat_minor": 2
}
