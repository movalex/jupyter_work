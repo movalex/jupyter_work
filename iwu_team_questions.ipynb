{
 "cells": [
  {
   "cell_type": "code",
   "execution_count": 1,
   "metadata": {},
   "outputs": [
    {
     "data": {
      "text/plain": [
       "[5, 1, 2, 3]"
      ]
     },
     "execution_count": 1,
     "metadata": {},
     "output_type": "execute_result"
    }
   ],
   "source": [
    "\n",
    "def revers(l):\n",
    "    rev = []\n",
    "    for i in range(len(l)):\n",
    "        rev.append(l[i - 1])\n",
    "    return rev\n",
    "\n",
    "revers([1,2,3,5])\n"
   ]
  },
  {
   "cell_type": "code",
   "execution_count": 17,
   "metadata": {},
   "outputs": [
    {
     "data": {
      "text/plain": [
       "3"
      ]
     },
     "execution_count": 17,
     "metadata": {},
     "output_type": "execute_result"
    }
   ],
   "source": [
    "s = 'abcdcaa'\n",
    "len(s)//2"
   ]
  },
  {
   "cell_type": "code",
   "execution_count": 20,
   "metadata": {},
   "outputs": [],
   "source": [
    "\n",
    "half1 = s[len(s)//2:]"
   ]
  },
  {
   "cell_type": "code",
   "execution_count": 21,
   "metadata": {},
   "outputs": [
    {
     "data": {
      "text/plain": [
       "'dcaa'"
      ]
     },
     "execution_count": 21,
     "metadata": {},
     "output_type": "execute_result"
    }
   ],
   "source": [
    "half1"
   ]
  },
  {
   "cell_type": "code",
   "execution_count": 23,
   "metadata": {},
   "outputs": [],
   "source": [
    "ss = s[::-1]"
   ]
  },
  {
   "cell_type": "code",
   "execution_count": 25,
   "metadata": {},
   "outputs": [],
   "source": [
    "s = list(zip(s,ss))"
   ]
  },
  {
   "cell_type": "code",
   "execution_count": 26,
   "metadata": {},
   "outputs": [
    {
     "data": {
      "text/plain": [
       "('a', 'a')"
      ]
     },
     "execution_count": 26,
     "metadata": {},
     "output_type": "execute_result"
    }
   ],
   "source": [
    "s[0]"
   ]
  },
  {
   "cell_type": "code",
   "execution_count": 27,
   "metadata": {},
   "outputs": [
    {
     "data": {
      "text/plain": [
       "'a'"
      ]
     },
     "execution_count": 27,
     "metadata": {},
     "output_type": "execute_result"
    }
   ],
   "source": [
    "s[0][1]"
   ]
  },
  {
   "cell_type": "code",
   "execution_count": 31,
   "metadata": {},
   "outputs": [
    {
     "data": {
      "text/plain": [
       "{1, 2, 3, 4, 11, 20}"
      ]
     },
     "execution_count": 31,
     "metadata": {},
     "output_type": "execute_result"
    }
   ],
   "source": [
    "set([1, 3, 2, 4, 20, 11, 2, 1, 3])"
   ]
  },
  {
   "cell_type": "code",
   "execution_count": 32,
   "metadata": {},
   "outputs": [
    {
     "data": {
      "text/plain": [
       "{1, 2, 3, 4, 11, 20}"
      ]
     },
     "execution_count": 32,
     "metadata": {},
     "output_type": "execute_result"
    }
   ],
   "source": [
    "{i for i in s}"
   ]
  },
  {
   "cell_type": "code",
   "execution_count": 30,
   "metadata": {},
   "outputs": [],
   "source": [
    "s = [1, 3, 2, 4, 20, 11, 2, 1, 3]"
   ]
  },
  {
   "cell_type": "code",
   "execution_count": 33,
   "metadata": {},
   "outputs": [
    {
     "data": {
      "text/plain": [
       "[3, 1, 2, 11, 20, 4, 2, 3, 1]"
      ]
     },
     "execution_count": 33,
     "metadata": {},
     "output_type": "execute_result"
    }
   ],
   "source": [
    "def reverse_list(elems):\n",
    "    new = []\n",
    "    for i in range(len(elems)):\n",
    "        new.append(elems[len(elems) - i - 1])\n",
    "    return new\n",
    "\n",
    "reverse_list(s)"
   ]
  },
  {
   "cell_type": "code",
   "execution_count": 34,
   "metadata": {},
   "outputs": [
    {
     "name": "stdout",
     "output_type": "stream",
     "text": [
      "all tests passed\n"
     ]
    }
   ],
   "source": [
    "def four_letter_words(sentence):\n",
    "    count = 0\n",
    "    words = sentence.split()\n",
    "    for word in words:\n",
    "        if len(word) == 4:\n",
    "            count += 1\n",
    "    return count\n",
    "\t\t\n",
    "\n",
    "assert(four_letter_words('This sentence is fine') == 2)\n",
    "assert(four_letter_words('So is this one') == 1)\n",
    "assert(four_letter_words('Hello') == 0)\n",
    "print('all tests passed')"
   ]
  },
  {
   "cell_type": "code",
   "execution_count": 35,
   "metadata": {},
   "outputs": [
    {
     "name": "stdout",
     "output_type": "stream",
     "text": [
      "all tests passed\n"
     ]
    }
   ],
   "source": [
    "def almost_palindromes(str):\n",
    "    count = 0\n",
    "    rev = str[::-1]\n",
    "    comp = zip(str, rev)\n",
    "    for elem in comp:\n",
    "        if elem[0] != elem[1]:\n",
    "            count +=1\n",
    "    return count\n",
    "\n",
    "\n",
    "\n",
    "assert(almost_palindromes('abba') == 0)\n",
    "assert(almost_palindromes('abcdcaa') == 2)\n",
    "assert(almost_palindromes('aaabbb') == 6)\n",
    "print('all tests passed');"
   ]
  },
  {
   "cell_type": "code",
   "execution_count": 36,
   "metadata": {},
   "outputs": [
    {
     "name": "stdout",
     "output_type": "stream",
     "text": [
      "[1, 3]\n",
      "[3, 1]\n",
      "[2, 2]\n",
      "None\n"
     ]
    }
   ],
   "source": [
    "def pairs_up_to(nums, k):\n",
    "    result = {(a1, k - a1) for a1 in nums if k-a1 in set(nums)}\n",
    "    for pair in result:\n",
    "        print(list(pair))    \n",
    "\n",
    "\n",
    "print(pairs_up_to([1, 3, 2, 4, 20, 11, 2, 1, 3], 4));"
   ]
  },
  {
   "cell_type": "code",
   "execution_count": 42,
   "metadata": {},
   "outputs": [
    {
     "data": {
      "text/plain": [
       "[(1, 3), (3, 1)]"
      ]
     },
     "execution_count": 42,
     "metadata": {},
     "output_type": "execute_result"
    }
   ],
   "source": [
    "list(zip((1, 3), (3, 1)))"
   ]
  },
  {
   "cell_type": "code",
   "execution_count": null,
   "metadata": {},
   "outputs": [],
   "source": []
  },
  {
   "cell_type": "code",
   "execution_count": 62,
   "metadata": {},
   "outputs": [
    {
     "name": "stdout",
     "output_type": "stream",
     "text": [
      "<generator object pairs_up_to at 0x70631630>\n"
     ]
    }
   ],
   "source": [
    "def pairs_up_to1(nums, k):\n",
    "    cache = []\n",
    "    result = {(j, k - j) for j in nums if k - j in set(nums)}\n",
    "    for pair in result:\n",
    "        elem = sorted(list(pair))\n",
    "        if not elem in cache:\n",
    "            yield elem\n",
    "            cache.append(elem) \n",
    "\n",
    "print(pairs_up_to([1, 3, 2, 4, 2, 2, 20, 11, 2, 1, 3], 6))"
   ]
  },
  {
   "cell_type": "code",
   "execution_count": 4,
   "metadata": {},
   "outputs": [],
   "source": [
    "def pairs_up_to2(nums, k):\n",
    "    cache = {}\n",
    "    count = 1\n",
    "    result = {(j, k - j) for j in nums if k - j in set(nums)}\n",
    "    for pair in result:\n",
    "        elem = sorted(list(pair))\n",
    "        if not elem in cache.values():\n",
    "            yield elem\n",
    "            cache[count] = elem\n",
    "            count += 1\n",
    "\n",
    "# print(pairs_up_to([i for i in range(200)], 222))"
   ]
  },
  {
   "cell_type": "code",
   "execution_count": 5,
   "metadata": {},
   "outputs": [
    {
     "name": "stdout",
     "output_type": "stream",
     "text": [
      "[11, 89]\n",
      "[19, 81]\n",
      "[3, 97]\n",
      "[2, 98]\n",
      "[40, 60]\n",
      "[41, 59]\n",
      "[27, 73]\n",
      "[38, 62]\n",
      "[47, 53]\n",
      "[44, 56]\n",
      "[50, 50]\n",
      "[16, 84]\n",
      "[42, 58]\n",
      "[24, 76]\n",
      "[13, 87]\n",
      "[31, 69]\n",
      "[35, 65]\n",
      "[49, 51]\n",
      "[28, 72]\n",
      "[39, 61]\n",
      "[5, 95]\n",
      "[43, 57]\n",
      "[36, 64]\n",
      "[17, 83]\n",
      "[25, 75]\n",
      "[32, 68]\n",
      "[30, 70]\n",
      "[15, 85]\n",
      "[23, 77]\n",
      "[9, 91]\n",
      "[1, 99]\n",
      "[46, 54]\n",
      "[18, 82]\n",
      "[26, 74]\n",
      "[37, 63]\n",
      "[7, 93]\n",
      "[22, 78]\n",
      "[33, 67]\n",
      "[34, 66]\n",
      "[20, 80]\n",
      "[12, 88]\n",
      "[4, 96]\n",
      "[8, 92]\n",
      "[0, 100]\n",
      "[14, 86]\n",
      "[45, 55]\n",
      "[29, 71]\n",
      "[6, 94]\n",
      "[21, 79]\n",
      "[10, 90]\n",
      "[48, 52]\n"
     ]
    }
   ],
   "source": [
    "from random import randrange\n",
    "s = [randrange(0,200) for _ in range(2000)]\n",
    "test = pairs_up_to2(s, 100)\n",
    "for i in test:\n",
    "    print(i)"
   ]
  },
  {
   "cell_type": "code",
   "execution_count": 48,
   "metadata": {},
   "outputs": [],
   "source": [
    "ss = {}\n",
    "ss['test'] = [1,2]"
   ]
  },
  {
   "cell_type": "code",
   "execution_count": 49,
   "metadata": {},
   "outputs": [
    {
     "data": {
      "text/plain": [
       "{'test': [1, 2]}"
      ]
     },
     "execution_count": 49,
     "metadata": {},
     "output_type": "execute_result"
    }
   ],
   "source": [
    "ss"
   ]
  },
  {
   "cell_type": "code",
   "execution_count": null,
   "metadata": {},
   "outputs": [],
   "source": []
  }
 ],
 "metadata": {
  "kernelspec": {
   "display_name": "Python 3",
   "language": "python",
   "name": "python3"
  },
  "language_info": {
   "codemirror_mode": {
    "name": "ipython",
    "version": 3
   },
   "file_extension": ".py",
   "mimetype": "text/x-python",
   "name": "python",
   "nbconvert_exporter": "python",
   "pygments_lexer": "ipython3",
   "version": "3.7.3"
  }
 },
 "nbformat": 4,
 "nbformat_minor": 2
}
