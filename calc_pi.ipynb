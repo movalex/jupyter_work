{
 "cells": [
  {
   "cell_type": "code",
   "execution_count": 1,
   "metadata": {},
   "outputs": [
    {
     "name": "stdout",
     "output_type": "stream",
     "text": [
      "314159265358979323846264338327950288419716939937510582097494\n",
      "459230781640628620899862803482534211706798214808651328230664\n",
      "709384460955058223172535940812848111745028410270193852110555\n",
      "964462294895493038196442881097566593344612847564823378678316\n",
      "527120190914564856692346034861045432664821339360726024914127\n",
      "372458700660631558817488152092096282925409171536436789259036\n",
      "001133053054882046652138414695194151160943305727036575959195\n",
      "309218611738193261179310511854807446237996274956735188575272\n",
      "489122793818301194912983367336244065664308602139494639522473\n",
      "719070217986094370277053921717629317675238467481846766940513\n"
     ]
    }
   ],
   "source": [
    "import sys\n",
    "\n",
    "\n",
    "def calcPi(num):\n",
    "    q, r, t, k, n, l = 1, 0, 1, 1, 3, 3\n",
    "    while num>0:\n",
    "        if 4*q+r-t < n*t:\n",
    "            yield n\n",
    "            num-=1\n",
    "            nr = 10*(r-n*t)\n",
    "            n  = ((10*(3*q+r))//t)-10*n\n",
    "            q  *= 10\n",
    "            r  = nr\n",
    "        else:\n",
    "            nr = (2*q+r)*l\n",
    "            nn = (q*(7*k)+2+(r*l))//(t*l)\n",
    "            q  *= k\n",
    "            t  *= l\n",
    "            l  += 2\n",
    "            k += 1\n",
    "            n  = nn\n",
    "            r  = nr\n",
    "        \n",
    "\n",
    "pi_digits = calcPi(600)\n",
    "i = 0\n",
    "for d in pi_digits:\n",
    "    sys.stdout.write(str(d))\n",
    "    i += 1\n",
    "    if i == 60: \n",
    "        print(\"\")\n",
    "        i = 0\n"
   ]
  },
  {
   "cell_type": "code",
   "execution_count": null,
   "metadata": {},
   "outputs": [],
   "source": []
  }
 ],
 "metadata": {
  "kernelspec": {
   "display_name": "Python 3",
   "language": "python",
   "name": "python3"
  },
  "language_info": {
   "codemirror_mode": {
    "name": "ipython",
    "version": 3
   },
   "file_extension": ".py",
   "mimetype": "text/x-python",
   "name": "python",
   "nbconvert_exporter": "python",
   "pygments_lexer": "ipython3",
   "version": "3.6.6"
  }
 },
 "nbformat": 4,
 "nbformat_minor": 2
}
