{
 "cells": [
  {
   "cell_type": "markdown",
   "metadata": {},
   "source": [
    "## Binary Search\n"
   ]
  },
  {
   "cell_type": "code",
   "execution_count": null,
   "metadata": {},
   "outputs": [],
   "source": [
    "#works only with sorted list\n",
    "from math import log2\n",
    "\n",
    "\n",
    "def binary_search(lst, item):\n",
    "    low = 0\n",
    "    count = 0\n",
    "    high = len(lst) - 1\n",
    "    while low <= high:\n",
    "        mid = int((low + high)/2)\n",
    "        guess = lst[mid]\n",
    "        if guess == item:\n",
    "            return mid, count\n",
    "        count +=1\n",
    "        if guess > item:\n",
    "            high = mid - 1\n",
    "        else:\n",
    "            low = mid + 1\n",
    "    return None\n",
    "\n",
    "\n",
    "my_list = [0,1,5,7,8,20,44,45,60,100,123,231,232,243,341,532,543,1245,2341,12453,1241313,3524352,123124,342423,123123,12,23,32,12,434,53,21,23,14,31,23,1,43341,123,12,334,3241,23]\n",
    "my_list.sort()\n",
    "print(\"maximum number of attempts needed: \", log2(len(my_list)))\n",
    "# print(len(my_list))\n",
    "s = binary_search(my_list,3524352)\n",
    "\n",
    "\n",
    "# def mults(n):\n",
    "#     if n > 1:\n",
    "#         return 's'\n",
    "#     else:\n",
    "#         return ''\n",
    "\n",
    "    \n",
    "if s:\n",
    "#     print(f'found list element \"{my_list[s[0]]}\" at position {s[0]} in {s[1]} attempt{str(mults(s[1]))}')\n",
    "    print(f'found list element \"{my_list[s[0]]}\" at position {s[0]} '\n",
    "          f'in {s[1]} attempt{(lambda x: \"s\" if x > 1 else \"\") (s[1])}')\n",
    "else:\n",
    "    print('No such element')\n"
   ]
  },
  {
   "cell_type": "markdown",
   "metadata": {},
   "source": [
    "## Merge and sort list of sorted lists"
   ]
  },
  {
   "cell_type": "code",
   "execution_count": null,
   "metadata": {},
   "outputs": [],
   "source": [
    "from merge_heap import merge"
   ]
  },
  {
   "cell_type": "code",
   "execution_count": null,
   "metadata": {},
   "outputs": [],
   "source": [
    "ll = [[1,2,5], [5,31,64]]\n",
    "merge(ll)"
   ]
  },
  {
   "cell_type": "code",
   "execution_count": null,
   "metadata": {},
   "outputs": [],
   "source": [
    "ll = [[1,2,5], [5,31,64]]\n",
    "conc_ll = [item for i in ll for item in i]\n",
    "print(sorted(conc_ll))"
   ]
  },
  {
   "cell_type": "code",
   "execution_count": null,
   "metadata": {},
   "outputs": [],
   "source": [
    "conc_sum = sum(ll,[])\n",
    "print(sorted(conc_sum))"
   ]
  },
  {
   "cell_type": "code",
   "execution_count": null,
   "metadata": {},
   "outputs": [],
   "source": [
    "from collections import deque\n",
    "d = deque([1, 2, 3, 1, 3, 5, 7])"
   ]
  },
  {
   "cell_type": "code",
   "execution_count": null,
   "metadata": {},
   "outputs": [],
   "source": [
    "d.appendleft(100)"
   ]
  },
  {
   "cell_type": "code",
   "execution_count": null,
   "metadata": {},
   "outputs": [],
   "source": [
    "d.extendleft('36548')"
   ]
  }
 ],
 "metadata": {
  "kernelspec": {
   "display_name": "Python 3",
   "language": "python",
   "name": "python3"
  },
  "language_info": {
   "codemirror_mode": {
    "name": "ipython",
    "version": 3
   },
   "file_extension": ".py",
   "mimetype": "text/x-python",
   "name": "python",
   "nbconvert_exporter": "python",
   "pygments_lexer": "ipython3",
   "version": "3.7.3"
  }
 },
 "nbformat": 4,
 "nbformat_minor": 2
}
