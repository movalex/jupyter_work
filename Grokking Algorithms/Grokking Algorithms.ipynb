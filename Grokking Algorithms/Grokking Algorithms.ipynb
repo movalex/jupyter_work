{
 "cells": [
  {
   "cell_type": "markdown",
   "metadata": {},
   "source": [
    "## Binary Search\n"
   ]
  },
  {
   "cell_type": "code",
   "execution_count": 40,
   "metadata": {},
   "outputs": [
    {
     "name": "stdout",
     "output_type": "stream",
     "text": [
      "43\n",
      "found list element \"12453\" at position 36 in 5 attempts \n"
     ]
    },
    {
     "data": {
      "text/plain": [
       "5.426264754702098"
      ]
     },
     "execution_count": 40,
     "metadata": {},
     "output_type": "execute_result"
    }
   ],
   "source": [
    "#works only with sorted list\n",
    "import math\n",
    "\n",
    "def binary_search(lst, item):\n",
    "    low = 0\n",
    "    count = 0\n",
    "    high = len(lst) - 1\n",
    "    while low <= high:\n",
    "        mid = int((low + high)/2)\n",
    "        guess = lst[mid]\n",
    "        if guess == item:\n",
    "            return mid, count\n",
    "        count +=1\n",
    "        if guess > item:\n",
    "            high = mid - 1\n",
    "        else:\n",
    "            low = mid + 1\n",
    "    return None\n",
    "\n",
    "my_list = [0,1,5,7,8,20,44,45,60,100,123,231,232,243,341,532,543,1245,2341,12453,1241313,3524352,123124,342423,123123,12,23,32,12,434,53,21,23,14,31,23,1,43341,123,12,334,3241,23]\n",
    "my_list.sort()\n",
    "print(len(my_list))\n",
    "s = binary_search(my_list,12453)\n",
    "print(f'found list element \"{my_list[s[0]]}\" at position {s[0]} in {s[1]} attempts ')\n",
    "\n",
    "math.log(len(my_list),2)"
   ]
  },
  {
   "cell_type": "markdown",
   "metadata": {},
   "source": [
    "## Merge and sort list of sorted lists"
   ]
  },
  {
   "cell_type": "code",
   "execution_count": 1,
   "metadata": {},
   "outputs": [],
   "source": [
    "from merge_heap import merge"
   ]
  },
  {
   "cell_type": "code",
   "execution_count": 2,
   "metadata": {},
   "outputs": [
    {
     "name": "stdout",
     "output_type": "stream",
     "text": [
      "heap init:     [(1, 0, 0), (5, 1, 0)]\n"
     ]
    },
    {
     "data": {
      "text/plain": [
       "[1, 2, 5, 5, 31, 64]"
      ]
     },
     "execution_count": 2,
     "metadata": {},
     "output_type": "execute_result"
    }
   ],
   "source": [
    "ll = [[1,2,5], [5,31,64]]\n",
    "merge(ll)"
   ]
  },
  {
   "cell_type": "code",
   "execution_count": 3,
   "metadata": {},
   "outputs": [
    {
     "name": "stdout",
     "output_type": "stream",
     "text": [
      "[1, 2, 5, 5, 31, 64]\n"
     ]
    }
   ],
   "source": [
    "ll = [[1,2,5], [5,31,64]]\n",
    "conc_ll = [item for i in ll for item in i]\n",
    "print(sorted(conc_ll))"
   ]
  },
  {
   "cell_type": "code",
   "execution_count": 4,
   "metadata": {},
   "outputs": [
    {
     "name": "stdout",
     "output_type": "stream",
     "text": [
      "[1, 2, 5, 5, 31, 64]\n"
     ]
    }
   ],
   "source": [
    "conc_sum = sum(ll,[])\n",
    "print(sorted(conc_sum))"
   ]
  }
 ],
 "metadata": {
  "kernelspec": {
   "display_name": "Python 3",
   "language": "python",
   "name": "python3"
  },
  "language_info": {
   "codemirror_mode": {
    "name": "ipython",
    "version": 3
   },
   "file_extension": ".py",
   "mimetype": "text/x-python",
   "name": "python",
   "nbconvert_exporter": "python",
   "pygments_lexer": "ipython3",
   "version": "3.7.3"
  }
 },
 "nbformat": 4,
 "nbformat_minor": 2
}
