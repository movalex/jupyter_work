{
 "cells": [
  {
   "cell_type": "markdown",
   "metadata": {},
   "source": [
    "# encryption python"
   ]
  },
  {
   "cell_type": "code",
   "execution_count": 1,
   "metadata": {},
   "outputs": [
    {
     "name": "stdout",
     "output_type": "stream",
     "text": [
      "Enter password: ········\n",
      "Verify password: ········\n"
     ]
    },
    {
     "data": {
      "text/plain": [
       "'sha1:70084b599d2a:4dde0f736235061d58f68fcf94e53ab92cae925e'"
      ]
     },
     "execution_count": 1,
     "metadata": {},
     "output_type": "execute_result"
    }
   ],
   "source": [
    "from IPython.lib import passwd\n",
    "passwd()\n",
    "#use for jupyter password"
   ]
  },
  {
   "cell_type": "code",
   "execution_count": null,
   "metadata": {
    "scrolled": true
   },
   "outputs": [],
   "source": [
    "from IPython.lib import passwd\n",
    "passwd()\n",
    "#use for jupyter password"
   ]
  },
  {
   "cell_type": "code",
   "execution_count": 1,
   "metadata": {
    "collapsed": true
   },
   "outputs": [],
   "source": [
    "import crypt"
   ]
  },
  {
   "cell_type": "code",
   "execution_count": 2,
   "metadata": {
    "scrolled": true
   },
   "outputs": [
    {
     "name": "stdout",
     "output_type": "stream",
     "text": [
      "$6$Ar9fI45aDFsVPpo4$c.2ZAQUwBQ7LETKkKUiUlH5.cbD1csIKnExlN3yS7OJoIFvqsoWY.jnhNaeIt1/73Fw1ddNajzHvOFNL2mprv0\n"
     ]
    }
   ],
   "source": [
    "print(crypt.crypt(\"fuck\", crypt.mksalt(crypt.METHOD_SHA512)))"
   ]
  },
  {
   "cell_type": "code",
   "execution_count": 3,
   "metadata": {},
   "outputs": [
    {
     "name": "stdout",
     "output_type": "stream",
     "text": [
      "$5$JqehGGRVCCwuQDm1$/eCgS46jI5PhWCncVBhnJOUYOEaZEXxTKi.IQhj9ib9\n"
     ]
    }
   ],
   "source": [
    "print(crypt.crypt(\"fuck\", crypt.mksalt(crypt.METHOD_SHA256)))"
   ]
  },
  {
   "cell_type": "code",
   "execution_count": null,
   "metadata": {},
   "outputs": [],
   "source": [
    "print(crypt.crypt(\"6575128\", crypt.mksalt(crypt.METHOD_MD5)))"
   ]
  },
  {
   "cell_type": "code",
   "execution_count": null,
   "metadata": {
    "collapsed": true
   },
   "outputs": [],
   "source": [
    "import getpass\n",
    "from passlib.hash import sha512_crypt, sha256_crypt, hex_sha1, hex_md5\n",
    "\n",
    "#needs to install passlib via pip"
   ]
  },
  {
   "cell_type": "code",
   "execution_count": null,
   "metadata": {},
   "outputs": [],
   "source": [
    "pswd = getpass.getpass('enter password')"
   ]
  },
  {
   "cell_type": "code",
   "execution_count": null,
   "metadata": {
    "scrolled": true
   },
   "outputs": [],
   "source": [
    "hash2 = hex_sha1.hash(pswd)\n",
    "print(hash2)"
   ]
  },
  {
   "cell_type": "code",
   "execution_count": null,
   "metadata": {},
   "outputs": [],
   "source": [
    "print(pswd)"
   ]
  }
 ],
 "metadata": {
  "kernelspec": {
   "display_name": "Python 3",
   "language": "python",
   "name": "python3"
  },
  "language_info": {
   "codemirror_mode": {
    "name": "ipython",
    "version": 3
   },
   "file_extension": ".py",
   "mimetype": "text/x-python",
   "name": "python",
   "nbconvert_exporter": "python",
   "pygments_lexer": "ipython3",
   "version": "3.6.6"
  }
 },
 "nbformat": 4,
 "nbformat_minor": 2
}
