{
 "cells": [
  {
   "cell_type": "code",
   "execution_count": null,
   "metadata": {},
   "outputs": [],
   "source": [
    "def naive(a,b):\n",
    "    x = a\n",
    "    y = b\n",
    "    z = 0\n",
    "    while x > 0:\n",
    "        z = z + y\n",
    "        x -= 1\n",
    "    return z\n",
    "#slooooow\n"
   ]
  },
  {
   "cell_type": "code",
   "execution_count": null,
   "metadata": {},
   "outputs": [],
   "source": [
    "naive(2**2,3**1)"
   ]
  },
  {
   "cell_type": "code",
   "execution_count": 4,
   "metadata": {},
   "outputs": [],
   "source": [
    "def naive(a,b):\n",
    "    x = a\n",
    "    y = b\n",
    "    z = 0\n",
    "    while x > 0:\n",
    "        z = z + y\n",
    "        x -= 1\n",
    "        if x == 20 and y == 12:\n",
    "            return z # (63-20)*12"
   ]
  },
  {
   "cell_type": "code",
   "execution_count": 6,
   "metadata": {},
   "outputs": [
    {
     "data": {
      "text/plain": [
       "516"
      ]
     },
     "execution_count": 6,
     "metadata": {},
     "output_type": "execute_result"
    }
   ],
   "source": [
    "naive(63,12)"
   ]
  },
  {
   "cell_type": "code",
   "execution_count": null,
   "metadata": {},
   "outputs": [],
   "source": []
  },
  {
   "cell_type": "code",
   "execution_count": 1,
   "metadata": {},
   "outputs": [
    {
     "data": {
      "text/plain": [
       "'0b10001'"
      ]
     },
     "execution_count": 1,
     "metadata": {},
     "output_type": "execute_result"
    }
   ],
   "source": [
    "bin(17)"
   ]
  },
  {
   "cell_type": "code",
   "execution_count": 31,
   "metadata": {},
   "outputs": [],
   "source": [
    "def russian(a,b):\n",
    "    x = a\n",
    "    y = b\n",
    "    z = 0\n",
    "    while x > 0:\n",
    "        if x % 2 == 1:\n",
    "            z = z + y\n",
    "        y = y << 1\n",
    "        x = x >> 1\n",
    "    return z\n",
    "#faaaast!"
   ]
  },
  {
   "cell_type": "code",
   "execution_count": 32,
   "metadata": {},
   "outputs": [
    {
     "data": {
      "text/plain": [
       "46020912800936738197356912734646325827658167482210737410783735222313122336480111488612701320373727305095974130055543530832599996908573456484368834406297087903733915484159870582655343654263885730042796295562491094360774675680016770250708339220774157202815176258867002674969359964262490681048734103742241011521171937770621992418237307851875975522589334429552332757338642310751263069825428028640784586369647205998301045997100568205550664834336415562472103073312541674388994015971947188517884318565791258462306842400625072385527628813824842793555897946627469609773078160791014734437518100429718389884093261481116359101228638419862603887107348448083866078421877429136608195675114793828864394168159931609603325811913731177245299835099111114259912194900608635395834576171482696094333006219715375395716487197791437213671424441204657321848002500406769818778476807183150058926345531605206393282661889423696946660286526965809555471727642401675078231936928170088881830606964423004262520419926963704585451141972636016415422566818013781993564880366369478168619618469692852845647726575083784529909967145671749461599665340561357913226316609786073231041408880160950016927901768352174669135644190968678814381168834868686522949669498558749360392196032306633707188603765322445877303579481840260189586627094677326277984225650178100459372809296019654301089557547268654419546806795401806080421758338683284224831485190493830319071103022350014555036489629025604372341055200387921628513411335542106322539073006049258668896577797194996830079147219336481559069318015163291417637971286028717055593669127222200189459283434809160237834699454137557395275514994244745351506493897310253186509701740354295905238033137176647587973169320643536113877640483550212945172137144823143343215501632804155179363079803284236240489618496443748860653127222973446437581767141763400980584540456928613594853355747317883055816260992049129796759546700794214036431392411255605977075507934198391082916705820121698756806987285122071935741716262137525798765887012663315991360783463832751888326080365676043625667962821552561583310573695488071330238645121463029389742181080853596562002351474174270634660274037113375931564591871012807686305009443754236073787231570937135264993192996959652825334210067504864690104458366413758060227634672450502230185607087728414821418312490970985367753249728044187075285888464380338935650105440648502635438571116098993663952131376887906842027775447504643826139051037889002584514227639709410411234801771969388442700856586409732483359350897366323358833190237865622806283903558453206873571168021030022631479378643507196156490343222552658944096303436224204507828018426896953608576175323727904963465785332784318713765019167300961611948725721626974779254441582519960428813402364954198296345771671972903012962019202343781834327255593434495027628943390945080536414136117995618652300015412204264675660052571875026217016603864292274001697561517153136079100702752749293566806223045868938173455631240732522918359035890415472079827567390249229852796637082614475263809684429912103859609357379978756408446809667735753581343638339307085216736801571977281499047201268962333253769320748862449077930549804650368945592644954351891523199711841473204882870165221888578251602071100468222458032120860816880578855142843737561890816"
      ]
     },
     "execution_count": 32,
     "metadata": {},
     "output_type": "execute_result"
    }
   ],
   "source": [
    "russian(22**1300,3**3212)"
   ]
  },
  {
   "cell_type": "markdown",
   "metadata": {},
   "source": [
    "## Eulerian"
   ]
  },
  {
   "cell_type": "code",
   "execution_count": 13,
   "metadata": {},
   "outputs": [
    {
     "name": "stdout",
     "output_type": "stream",
     "text": [
      "[(10, 7), (13, 10), (16, 13), (19, 16), (22, 19), (22, 7)]\n",
      "{10: 2, 7: 2, 13: 2, 16: 2, 19: 2, 22: 2}\n",
      "a = 10\n"
     ]
    },
    {
     "data": {
      "text/plain": [
       "{1: 2, 0: 2, 2: 2, 3: 2, 4: 2, 5: 2, 6: 2}"
      ]
     },
     "execution_count": 13,
     "metadata": {},
     "output_type": "execute_result"
    }
   ],
   "source": [
    "# Eulerian Tour Ver 1\n",
    "#\n",
    "# Write a function, `create_tour` that takes as\n",
    "# input a list of nodes\n",
    "# and outputs a list of tuples representing\n",
    "# edges between nodes that have an Eulerian tour.\n",
    "#\n",
    "\n",
    "def edge(x,y):\n",
    "    if x < y:\n",
    "        return (y, x)\n",
    "    return (x, y)\n",
    "\n",
    "\n",
    "def create_tour(nodes):\n",
    "    tour = []\n",
    "    l = len(nodes)\n",
    "    for i in range(l):\n",
    "        t = edge(nodes[i], nodes[(i+1) % l])\n",
    "        tour.append(t)\n",
    "    return tour\n",
    "\n",
    "#########\n",
    "\n",
    "def get_degree(tour):\n",
    "    degree = {}\n",
    "    for x, y in tour:\n",
    "        degree[x] = degree.get(x, 0) + 1 # \n",
    "                                         # dictionary count\n",
    "        degree[y] = degree.get(y, 0) + 1 #\n",
    "    return degree\n",
    "\n",
    "def check_edge(t, b, nodes):\n",
    "    \"\"\"\n",
    "    t: tuple representing an edge\n",
    "    b: origin node\n",
    "    nodes: set of nodes already visited\n",
    "\n",
    "    if we can get to a new node from `b` following `t`\n",
    "    then return that node, else return None\n",
    "    \"\"\"\n",
    "    if t[0] == b:\n",
    "        if t[1] not in nodes:\n",
    "            return t[1]\n",
    "    elif t[1] == b:\n",
    "        if t[0] not in nodes:\n",
    "            return t[0]\n",
    "    return None\n",
    "\n",
    "def connected_nodes(tour):\n",
    "    \"\"\"return the set of nodes reachable from\n",
    "    the first node in `tour`\"\"\"\n",
    "    a = tour[0][0]\n",
    "    print('a =', a)\n",
    "    nodes = set([a])\n",
    "#     print(nodes)\n",
    "    explore = set([a])\n",
    "#     print(explore)\n",
    "    while len(explore) > 0:\n",
    "        # see what other nodes we can reach\n",
    "        b = explore.pop()\n",
    "        for t in tour:\n",
    "            node = check_edge(t, b, nodes)\n",
    "            if node is None:\n",
    "                continue\n",
    "            nodes.add(node)\n",
    "            explore.add(node)\n",
    "    return nodes\n",
    "\n",
    "def is_eulerian_tour(nodes, tour):\n",
    "    # all nodes must be even degree\n",
    "    # and every node must be in graph\n",
    "    degree = get_degree(tour)\n",
    "    for node in nodes:\n",
    "        try:\n",
    "            d = degree[node]\n",
    "            if d % 2 == 1:\n",
    "                print(\"Node %s has odd degree\" % node)\n",
    "                return False\n",
    "        except KeyError:\n",
    "            print(\"Node %s was not in your tour\" % node)\n",
    "            return False\n",
    "    connected = connected_nodes(tour)\n",
    "    if len(connected) == len(nodes):\n",
    "        return True\n",
    "    else:\n",
    "        print(\"Your graph wasn't connected\")\n",
    "        return False\n",
    "\n",
    "def test():\n",
    "    nodes = [i for i in range(7,23,3)]\n",
    "    tour = create_tour(nodes)\n",
    "    print(tour)\n",
    "    print(get_degree(tour))\n",
    "    return is_eulerian_tour(nodes, tour)\n",
    "\n",
    "test()\n",
    "get_degree([(1, 0), (2, 1), (3, 2), (4, 3), (5, 4), (6, 5), (6, 0)])"
   ]
  },
  {
   "cell_type": "code",
   "execution_count": 51,
   "metadata": {},
   "outputs": [],
   "source": [
    "tt = [(1, 0), (2, 1), (2, 0)]"
   ]
  },
  {
   "cell_type": "code",
   "execution_count": 16,
   "metadata": {},
   "outputs": [
    {
     "name": "stdout",
     "output_type": "stream",
     "text": [
      "{1: 2, 0: 2, 2: 2, 3: 2, 4: 2, 5: 2, 6: 2}\n",
      "{2}\n"
     ]
    }
   ],
   "source": [
    "s = get_degree([(1, 0), (2, 1), (3, 2), (4, 3), (5, 4), (6, 5), (6, 0)])\n",
    "print(s)\n",
    "print(set(s.values()))"
   ]
  },
  {
   "cell_type": "markdown",
   "metadata": {},
   "source": [
    "## Graphs\n",
    "https://www.python.org/doc/essays/graphs/"
   ]
  },
  {
   "cell_type": "code",
   "execution_count": 3,
   "metadata": {},
   "outputs": [],
   "source": [
    "def find_path(graph, start, end, path=[]):\n",
    "    path = path + [start]\n",
    "    if start == end:\n",
    "        return path\n",
    "    if not start in graph:\n",
    "        return None\n",
    "    for node in graph[start]:\n",
    "        if node not in path:\n",
    "            newpath = find_path(graph, node, end, path)\n",
    "            if newpath: return newpath\n",
    "    return None"
   ]
  },
  {
   "cell_type": "code",
   "execution_count": 4,
   "metadata": {},
   "outputs": [
    {
     "ename": "NameError",
     "evalue": "name 'graph' is not defined",
     "output_type": "error",
     "traceback": [
      "\u001b[0;31m---------------------------------------------------------------------------\u001b[0m",
      "\u001b[0;31mNameError\u001b[0m                                 Traceback (most recent call last)",
      "\u001b[0;32m<ipython-input-4-0c3c276dd7dd>\u001b[0m in \u001b[0;36m<module>\u001b[0;34m()\u001b[0m\n\u001b[1;32m      1\u001b[0m \u001b[0;34m\u001b[0m\u001b[0m\n\u001b[0;32m----> 2\u001b[0;31m \u001b[0mfind_path\u001b[0m\u001b[0;34m(\u001b[0m\u001b[0mgraph\u001b[0m\u001b[0;34m,\u001b[0m \u001b[0;34m'A'\u001b[0m\u001b[0;34m,\u001b[0m \u001b[0;34m'D'\u001b[0m\u001b[0;34m)\u001b[0m\u001b[0;34m\u001b[0m\u001b[0m\n\u001b[0m",
      "\u001b[0;31mNameError\u001b[0m: name 'graph' is not defined"
     ]
    }
   ],
   "source": [
    "\n",
    "find_path(graph, 'A', 'D')"
   ]
  },
  {
   "cell_type": "code",
   "execution_count": 1,
   "metadata": {},
   "outputs": [],
   "source": [
    "def find_all_paths(graph, start, end, path=[]):\n",
    "    path = path + [start]\n",
    "    if start == end:\n",
    "        return path\n",
    "    if not start in graph:\n",
    "        return []\n",
    "    paths = []\n",
    "    for node in graph[start]:\n",
    "        if node not in path:\n",
    "            newpaths = find_all_paths(graph, node, end, path)\n",
    "            for newpath in newpaths:\n",
    "                paths.append(newpath)\n",
    "    return paths"
   ]
  },
  {
   "cell_type": "code",
   "execution_count": 2,
   "metadata": {},
   "outputs": [
    {
     "ename": "NameError",
     "evalue": "name 'graph' is not defined",
     "output_type": "error",
     "traceback": [
      "\u001b[0;31m---------------------------------------------------------------------------\u001b[0m",
      "\u001b[0;31mNameError\u001b[0m                                 Traceback (most recent call last)",
      "\u001b[0;32m<ipython-input-2-3d113385d402>\u001b[0m in \u001b[0;36m<module>\u001b[0;34m()\u001b[0m\n\u001b[0;32m----> 1\u001b[0;31m \u001b[0mfind_all_paths\u001b[0m\u001b[0;34m(\u001b[0m\u001b[0mgraph\u001b[0m\u001b[0;34m,\u001b[0m \u001b[0;34m'A'\u001b[0m\u001b[0;34m,\u001b[0m \u001b[0;34m'D'\u001b[0m\u001b[0;34m)\u001b[0m\u001b[0;34m\u001b[0m\u001b[0m\n\u001b[0m",
      "\u001b[0;31mNameError\u001b[0m: name 'graph' is not defined"
     ]
    }
   ],
   "source": [
    "find_all_paths(graph, 'A', 'D')"
   ]
  },
  {
   "cell_type": "code",
   "execution_count": 27,
   "metadata": {},
   "outputs": [],
   "source": [
    "def find_shortest_path(graph, start, end, path=[]):\n",
    "    path = path + [start]\n",
    "    if start == end:\n",
    "        return path\n",
    "    if not start in graph:\n",
    "        return None\n",
    "    shortest = None\n",
    "    for node in graph[start]:\n",
    "        if node not in path:\n",
    "            newpath = find_shortest_path(graph, node, end, path)\n",
    "            if newpath:\n",
    "                if not shortest or len(newpath) < len(shortest):\n",
    "                    shortest = newpath\n",
    "    return shortest"
   ]
  },
  {
   "cell_type": "code",
   "execution_count": 28,
   "metadata": {},
   "outputs": [
    {
     "ename": "NameError",
     "evalue": "name 'graph' is not defined",
     "output_type": "error",
     "traceback": [
      "\u001b[0;31m\u001b[0m",
      "\u001b[0;31mNameError\u001b[0mTraceback (most recent call last)",
      "\u001b[0;32m<ipython-input-28-84c621730d48>\u001b[0m in \u001b[0;36m<module>\u001b[0;34m()\u001b[0m\n\u001b[0;32m----> 1\u001b[0;31m \u001b[0mfind_shortest_path\u001b[0m\u001b[0;34m(\u001b[0m\u001b[0mgraph\u001b[0m\u001b[0;34m,\u001b[0m \u001b[0;34m'A'\u001b[0m\u001b[0;34m,\u001b[0m \u001b[0;34m'D'\u001b[0m\u001b[0;34m)\u001b[0m\u001b[0;34m\u001b[0m\u001b[0m\n\u001b[0m",
      "\u001b[0;31mNameError\u001b[0m: name 'graph' is not defined"
     ]
    }
   ],
   "source": [
    "find_shortest_path(graph, 'A', 'D')"
   ]
  },
  {
   "cell_type": "code",
   "execution_count": 28,
   "metadata": {},
   "outputs": [],
   "source": [
    "def rec_naive(a,b):\n",
    "    if a == 0:\n",
    "        return False\n",
    "    return b + rec_naive(a-1,b)"
   ]
  },
  {
   "cell_type": "code",
   "execution_count": 29,
   "metadata": {},
   "outputs": [
    {
     "data": {
      "text/plain": [
       "102"
      ]
     },
     "execution_count": 29,
     "metadata": {},
     "output_type": "execute_result"
    }
   ],
   "source": [
    "rec_naive(17,6)"
   ]
  },
  {
   "cell_type": "code",
   "execution_count": 5,
   "metadata": {},
   "outputs": [],
   "source": [
    "def clique(n):\n",
    "    print('in a clique')\n",
    "    for j in range(n):\n",
    "        for i in range(j):\n",
    "            print(i, 'are friends with', j)"
   ]
  },
  {
   "cell_type": "code",
   "execution_count": 6,
   "metadata": {},
   "outputs": [
    {
     "name": "stdout",
     "output_type": "stream",
     "text": [
      "in a clique\n",
      "0 are friends with 1\n",
      "0 are friends with 2\n",
      "1 are friends with 2\n",
      "0 are friends with 3\n",
      "1 are friends with 3\n",
      "2 are friends with 3\n"
     ]
    }
   ],
   "source": [
    "clique(4)"
   ]
  },
  {
   "cell_type": "code",
   "execution_count": 7,
   "metadata": {},
   "outputs": [
    {
     "data": {
      "text/plain": [
       "12.0"
      ]
     },
     "execution_count": 7,
     "metadata": {},
     "output_type": "execute_result"
    }
   ],
   "source": [
    "# Write a function, `count`\n",
    "# that returns the units of time\n",
    "# where each print statement is one unit of time\n",
    "# and each evaluation of range also takes one unit of time\n",
    "\n",
    "\n",
    "def count(n):\n",
    "    cc = 2 + n + n*(n-1)/2\n",
    "    return cc\n",
    "\n",
    "\n",
    "def clique(n):\n",
    "    print (\"in a clique...\")\n",
    "    for j in range(n):\n",
    "        for i in range(j):\n",
    "            print (i, \"is friends with\", j)\n",
    "            \n",
    "count(4)"
   ]
  },
  {
   "cell_type": "markdown",
   "metadata": {},
   "source": [
    "## Find Eulerian Tour"
   ]
  },
  {
   "cell_type": "code",
   "execution_count": 20,
   "metadata": {},
   "outputs": [],
   "source": [
    "# Find Eulerian Tour\n",
    "#\n",
    "# Write a function that takes in a graph\n",
    "# represented as a list of tuples\n",
    "# and return a list of nodes that\n",
    "# you would follow on an Eulerian Tour\n",
    "#\n",
    "# For example, if the input graph was\n",
    "# [(1, 2), (2, 3), (3, 1)]\n",
    "# A possible Eulerian tour would be [1, 2, 3, 1]\n",
    "\n",
    "def find_eulerian_tour(graph):\n",
    "    # your code here\n",
    "    for i in graph:\n",
    "        nd1, nd2 = i\n",
    "        print(nd1, nd2)\n",
    "#     return []\n",
    "\n"
   ]
  },
  {
   "cell_type": "code",
   "execution_count": 21,
   "metadata": {},
   "outputs": [
    {
     "name": "stdout",
     "output_type": "stream",
     "text": [
      "1 2\n",
      "2 3\n",
      "3 1\n"
     ]
    }
   ],
   "source": [
    "find_eulerian_tour([(1, 2), (2, 3), (3, 1)])"
   ]
  },
  {
   "cell_type": "code",
   "execution_count": 10,
   "metadata": {},
   "outputs": [],
   "source": [
    "tour = [(1, 2), (2, 3), (3, 1)]"
   ]
  },
  {
   "cell_type": "code",
   "execution_count": 25,
   "metadata": {},
   "outputs": [],
   "source": [
    "def get_degree(tour):\n",
    "    degree = {}\n",
    "    for x, y in tour:\n",
    "        degree[x] = degree.get(x, 0) + 1\n",
    "        degree[y] = degree.get(y, 0) + 1\n",
    "    return degree"
   ]
  },
  {
   "cell_type": "code",
   "execution_count": 26,
   "metadata": {},
   "outputs": [
    {
     "data": {
      "text/plain": [
       "{1: 2, 2: 2, 3: 2}"
      ]
     },
     "execution_count": 26,
     "metadata": {},
     "output_type": "execute_result"
    }
   ],
   "source": [
    "get_degree(tour)"
   ]
  }
 ],
 "metadata": {
  "kernelspec": {
   "display_name": "Python 3",
   "language": "python",
   "name": "python3"
  },
  "language_info": {
   "codemirror_mode": {
    "name": "ipython",
    "version": 3
   },
   "file_extension": ".py",
   "mimetype": "text/x-python",
   "name": "python",
   "nbconvert_exporter": "python",
   "pygments_lexer": "ipython3",
   "version": "3.6.6"
  }
 },
 "nbformat": 4,
 "nbformat_minor": 2
}
