{
 "cells": [
  {
   "cell_type": "code",
   "execution_count": 4,
   "metadata": {},
   "outputs": [
    {
     "name": "stdout",
     "output_type": "stream",
     "text": [
      "['.ipynb_checkpoints', 'artist_00.txt', 'artist_01.txt', 'artist_02.txt', 'artist_03.txt', 'artist_04.txt', 'artist_05.txt', 'artist_06.txt', 'artist_07.txt', 'artist_08.txt', 'artist_09.txt', 'artist_10.txt', 'artist_11.txt', 'artist_12.txt', 'artist_13.txt', 'artist_14.txt', 'artist_15.txt', 'artist_16.txt', 'artist_17.txt', 'artist_18.txt', 'artist_19.txt', 'artist_20.txt', 'artist_21.txt', 'artist_22.txt', 'artist_23.txt', 'artist_24.txt', 'artist_25.txt', 'artist_26.txt', 'artist_27.txt', 'artist_28.txt', 'artist_29.txt', 'artist_30.txt', 'artist_31.txt', 'artist_32.txt', 'artist_33.txt', 'artist_34.txt', 'artist_35.txt', 'artist_36.txt', 'artist_37.txt', 'artist_38.txt', 'artist_39.txt', 'artist_40.txt', 'artist_41.txt', 'artist_42.txt', 'artist_43.txt', 'artist_44.txt', 'artist_45.txt', 'artist_46.txt', 'artist_47.txt', 'artist_48.txt', 'artist_49.txt', 'artist_50.txt', 'artist_51.txt', 'artist_52.txt', 'songQuery_all.txt', 'split_large_file.ipynb']\n"
     ]
    }
   ],
   "source": [
    "import os\n",
    "# os.chdir('artist_split')\n",
    "print(sorted(os.listdir('.')))"
   ]
  },
  {
   "cell_type": "code",
   "execution_count": null,
   "metadata": {},
   "outputs": [],
   "source": [
    "SPLIT = 250\n",
    "COUNT = 0\n",
    "filename = 'songQuery_all.txt'\n",
    "out_file = None\n",
    "with open(filename) as infile:\n",
    "    header = infile.readline() \n",
    "    for num, line in enumerate(infile):\n",
    "        if (num) % SPLIT == 0:\n",
    "            if out_file:\n",
    "                out_file.close()      \n",
    "            out_file = open('artist_{}.txt'.format(str(COUNT).zfill(2)), 'w')\n",
    "            COUNT += 1\n",
    "            out_file.write(header)\n",
    "        out_file.write(line)\n",
    "    out_file.close()\n"
   ]
  }
 ],
 "metadata": {
  "kernelspec": {
   "display_name": "Python 3",
   "language": "python",
   "name": "python3"
  },
  "language_info": {
   "codemirror_mode": {
    "name": "ipython",
    "version": 3
   },
   "file_extension": ".py",
   "mimetype": "text/x-python",
   "name": "python",
   "nbconvert_exporter": "python",
   "pygments_lexer": "ipython3",
   "version": "3.6.6"
  }
 },
 "nbformat": 4,
 "nbformat_minor": 2
}
