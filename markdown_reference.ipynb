{
 "cells": [
  {
   "cell_type": "markdown",
   "metadata": {},
   "source": [
    "простой маркдаун"
   ]
  },
  {
   "cell_type": "markdown",
   "metadata": {},
   "source": [
    "**кто-то** сказал:\n",
    "> лыовралоыврал _вадлыдвлы_ло лылваор "
   ]
  },
  {
   "cell_type": "markdown",
   "metadata": {},
   "source": [
    "Это кусок текста:\n",
    "```\n",
    "а это код\n",
    "```"
   ]
  },
  {
   "cell_type": "markdown",
   "metadata": {},
   "source": [
    "* список\n",
    "* список1\n",
    "\n",
    "а тут будет кусок на питоне:\n",
    "```python\n",
    "import os\n",
    "os.listdir('.')\n",
    "```\n"
   ]
  },
  {
   "cell_type": "markdown",
   "metadata": {},
   "source": [
    "а это bash:\n",
    "```bash\n",
    "echo $PS1\n",
    "```"
   ]
  }
 ],
 "metadata": {
  "kernelspec": {
   "display_name": "Python 3",
   "language": "python",
   "name": "python3"
  },
  "language_info": {
   "codemirror_mode": {
    "name": "ipython",
    "version": 3
   },
   "file_extension": ".py",
   "mimetype": "text/x-python",
   "name": "python",
   "nbconvert_exporter": "python",
   "pygments_lexer": "ipython3",
   "version": "3.5.2"
  }
 },
 "nbformat": 4,
 "nbformat_minor": 2
}
