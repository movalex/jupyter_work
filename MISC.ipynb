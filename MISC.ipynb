{
 "cells": [
  {
   "cell_type": "code",
   "execution_count": null,
   "metadata": {},
   "outputs": [],
   "source": [
    "1/0.9375"
   ]
  },
  {
   "cell_type": "code",
   "execution_count": null,
   "metadata": {},
   "outputs": [],
   "source": [
    "def addtwo(a, b):\n",
    "    added = a + b\n",
    "    return a\n",
    "\n",
    "x = addtwo(2, 7)\n",
    "print(x)"
   ]
  },
  {
   "cell_type": "code",
   "execution_count": null,
   "metadata": {},
   "outputs": [],
   "source": [
    "import sys\n",
    "sys.version.split('|')[0].strip()"
   ]
  },
  {
   "cell_type": "code",
   "execution_count": null,
   "metadata": {},
   "outputs": [],
   "source": [
    "import os\n",
    "os.environ\n",
    "# os.listdir()"
   ]
  },
  {
   "cell_type": "code",
   "execution_count": null,
   "metadata": {},
   "outputs": [],
   "source": [
    "15990.5367*33"
   ]
  },
  {
   "cell_type": "code",
   "execution_count": null,
   "metadata": {},
   "outputs": [],
   "source": [
    "mylist = [1,23,'asda',3]\n",
    "mylist.__iter__()"
   ]
  },
  {
   "cell_type": "markdown",
   "metadata": {},
   "source": [
    "## Multiply Matrices"
   ]
  },
  {
   "cell_type": "code",
   "execution_count": null,
   "metadata": {},
   "outputs": [],
   "source": [
    "import numpy as np"
   ]
  },
  {
   "cell_type": "code",
   "execution_count": null,
   "metadata": {},
   "outputs": [],
   "source": [
    "x = [[4,6], [3,4]]\n",
    "y = [[3,-2],[11,4]]"
   ]
  },
  {
   "cell_type": "code",
   "execution_count": null,
   "metadata": {},
   "outputs": [],
   "source": [
    "x = np.array(x)\n",
    "y = np.array(y)"
   ]
  },
  {
   "cell_type": "code",
   "execution_count": null,
   "metadata": {},
   "outputs": [],
   "source": [
    "[I,J] = x.shape\n",
    "[K,H] = y.shape"
   ]
  },
  {
   "cell_type": "code",
   "execution_count": null,
   "metadata": {},
   "outputs": [],
   "source": [
    "z = np.zeros((I,H))\n",
    "print(z)"
   ]
  },
  {
   "cell_type": "code",
   "execution_count": null,
   "metadata": {},
   "outputs": [],
   "source": [
    "for i in range(I):\n",
    "    for j in range(H):\n",
    "        for k in range(K):\n",
    "            z[i,j] += x[i,k]*y[k,j]\n",
    "print(z)"
   ]
  },
  {
   "cell_type": "markdown",
   "metadata": {},
   "source": [
    "## Datetime"
   ]
  },
  {
   "cell_type": "code",
   "execution_count": null,
   "metadata": {},
   "outputs": [],
   "source": [
    "import datetime\n",
    "mbd = datetime.date(1982,1,19)"
   ]
  },
  {
   "cell_type": "code",
   "execution_count": null,
   "metadata": {},
   "outputs": [],
   "source": [
    "message = \"My birthday is {:%A, %B %d, %Y}\""
   ]
  },
  {
   "cell_type": "code",
   "execution_count": null,
   "metadata": {},
   "outputs": [],
   "source": [
    "print(message.format(mbd))"
   ]
  },
  {
   "cell_type": "code",
   "execution_count": null,
   "metadata": {},
   "outputs": [],
   "source": [
    "import re\n",
    "t = \"2027/10/12\"\n",
    "tt = list(map(int, re.split(\"\\W+\",t))) # string split by non-word characters\n",
    "tt"
   ]
  },
  {
   "cell_type": "code",
   "execution_count": null,
   "metadata": {},
   "outputs": [],
   "source": [
    "mm = \"Proper date is {: %A, %B %d, %Y}\"\n",
    "print(mm.format(datetime.date(*tt)))"
   ]
  },
  {
   "cell_type": "code",
   "execution_count": null,
   "metadata": {},
   "outputs": [],
   "source": [
    "nn = datetime.datetime.strptime(t, '%Y/%m/%d')\n",
    "print(\"date is {:%A, %d-th of %B}\".format(nn))"
   ]
  },
  {
   "cell_type": "markdown",
   "metadata": {},
   "source": [
    "## Fibonacci"
   ]
  },
  {
   "cell_type": "code",
   "execution_count": null,
   "metadata": {},
   "outputs": [],
   "source": [
    "def fib(n):\n",
    "    \"\"\"\n",
    "    a simple Fibonacci definition\"\"\"\n",
    "    if n < 2:\n",
    "        return 1\n",
    "    x,y = 1,1\n",
    "    for i in range(n-2):\n",
    "        x,y = y, x+y\n",
    "    return y"
   ]
  },
  {
   "cell_type": "code",
   "execution_count": null,
   "metadata": {},
   "outputs": [],
   "source": [
    "[fib(i) for i in range(10)]"
   ]
  },
  {
   "cell_type": "markdown",
   "metadata": {},
   "source": [
    "## Bitwise Operator"
   ]
  },
  {
   "cell_type": "code",
   "execution_count": null,
   "metadata": {},
   "outputs": [],
   "source": [
    "y = 6"
   ]
  },
  {
   "cell_type": "code",
   "execution_count": null,
   "metadata": {},
   "outputs": [],
   "source": [
    "10000>>y # same as 10000//2**y"
   ]
  },
  {
   "cell_type": "code",
   "execution_count": null,
   "metadata": {},
   "outputs": [],
   "source": [
    "10000<<y # same as 10000*(2**y)"
   ]
  },
  {
   "cell_type": "markdown",
   "metadata": {},
   "source": [
    "## Closest number"
   ]
  },
  {
   "cell_type": "code",
   "execution_count": null,
   "metadata": {},
   "outputs": [],
   "source": [
    "import random\n",
    "nums = [3423, 34534, 2345, 345, 6543, 4421, 656, 1234, 3425, 43566, 3242, 35334, 53212, 42342, 75756, 12, 2445, 23445, 5345, 231, 12678, 17, 79865, 34]\n",
    "s = [random.randrange(1, 59999) for i in range(20)]\n",
    "print(s)\n",
    "nums.sort()\n",
    "print(len(nums))\n",
    "print(nums)"
   ]
  },
  {
   "cell_type": "code",
   "execution_count": null,
   "metadata": {},
   "outputs": [],
   "source": [
    "from bisect import bisect_left\n",
    "def take_closest(numList, myNumber):\n",
    "    try:\n",
    "        pos = bisect_left(numList, myNumber)\n",
    "        if pos == len(numList):\n",
    "            return numList[pos-1]\n",
    "        if pos == 0:\n",
    "            return numList[pos]\n",
    "        value_before = numList[pos-1]\n",
    "        value_after = numList[pos]\n",
    "        if value_after - myNumber < myNumber - value_before:\n",
    "            return value_after\n",
    "        else:\n",
    "            return value_before\n",
    "    except (ValueError, TypeError) as e:\n",
    "        print('Damn it, something bad happened! Yarrr!\\nError message:',e)"
   ]
  },
  {
   "cell_type": "code",
   "execution_count": null,
   "metadata": {},
   "outputs": [],
   "source": [
    "print(winners)\n",
    "winner = random.choice(winners)\n",
    "print(f'the winner is {winner}')\n",
    "take_closest(nums, 324444)"
   ]
  },
  {
   "cell_type": "code",
   "execution_count": null,
   "metadata": {},
   "outputs": [],
   "source": [
    "myNumber = 44444\n",
    "min(nums, key = lambda x: abs(x-myNumber))"
   ]
  },
  {
   "cell_type": "code",
   "execution_count": null,
   "metadata": {},
   "outputs": [],
   "source": [
    "s = print(nums, key = lambda x: abs(x-myNumber))"
   ]
  },
  {
   "cell_type": "code",
   "execution_count": null,
   "metadata": {},
   "outputs": [],
   "source": [
    "min(nums, key=lambda x: 31)"
   ]
  },
  {
   "cell_type": "code",
   "execution_count": null,
   "metadata": {},
   "outputs": [],
   "source": [
    "print(hex(1800 << 2))"
   ]
  },
  {
   "cell_type": "code",
   "execution_count": null,
   "metadata": {},
   "outputs": [],
   "source": [
    "data = [('red', 5), ('blue', 1), ('yellow', 8), ('black', 0)]\n",
    "data.sort(key=lambda r: r[1])\n",
    "print(data)"
   ]
  },
  {
   "cell_type": "code",
   "execution_count": null,
   "metadata": {},
   "outputs": [],
   "source": [
    "keys = [r[1] for r in data]\n",
    "print(keys)"
   ]
  },
  {
   "cell_type": "code",
   "execution_count": null,
   "metadata": {},
   "outputs": [],
   "source": [
    "zork = 0\n",
    "for thing in [9, 41, 12, 3, 74, 15] :\n",
    "    zork = zork + thing\n",
    "print('After', zork)"
   ]
  },
  {
   "cell_type": "code",
   "execution_count": null,
   "metadata": {},
   "outputs": [],
   "source": [
    "list(map(chr, [108, 105,116]))"
   ]
  },
  {
   "cell_type": "code",
   "execution_count": null,
   "metadata": {},
   "outputs": [],
   "source": [
    "list(zip([3,22,45,11],[4,4,8,2]))"
   ]
  },
  {
   "cell_type": "code",
   "execution_count": null,
   "metadata": {},
   "outputs": [],
   "source": [
    "class counter:\n",
    "\n",
    "    value = 0\n",
    "    step = 1\n",
    "    \n",
    "    def set(self, x):\n",
    "        self.value = x\n",
    "\n",
    "    def up(self, step=1):\n",
    "        self.value = self.value + step\n",
    "        return self.value\n",
    "\n",
    "    def down(self, step=1):\n",
    "        self.value = self.value - step\n",
    "        return self.value\n",
    "\n",
    "count = counter()\n",
    "count.set(22)\n",
    "inc, dec = count.up, count.down\n"
   ]
  },
  {
   "cell_type": "code",
   "execution_count": null,
   "metadata": {},
   "outputs": [],
   "source": [
    "inc()"
   ]
  },
  {
   "cell_type": "code",
   "execution_count": null,
   "metadata": {},
   "outputs": [],
   "source": []
  },
  {
   "cell_type": "code",
   "execution_count": null,
   "metadata": {},
   "outputs": [],
   "source": [
    "#first class function\n",
    "def myfunc(a,b):\n",
    "    return a+b\n",
    "funcs = [myfunc]\n",
    "funcs[0](2,3)\n",
    "\n",
    "def dispatch_if(operator, a, b):\n",
    "    if operator == 'add':\n",
    "        return a + b\n",
    "    elif operator == 'sub':\n",
    "        return a - b\n",
    "    else: \n",
    "        return None\n",
    "\n",
    "def dispatch_case(operator, x, y):\n",
    "    return {\n",
    "        'add': lambda: x + y,\n",
    "        'sub': lambda: x - y,\n",
    "    }.get(operator, lambda: None)()\n",
    "\n",
    "print(dispatch_case('add', 2,3),dispatch_if('add', 3,4))"
   ]
  },
  {
   "cell_type": "code",
   "execution_count": null,
   "metadata": {},
   "outputs": [],
   "source": [
    "dict_vec = {'x': 1, 'y': 0, 'z': 1}\n",
    "print(dict_vec.values())\n",
    "\n",
    "def print_vector(x,y,z):\n",
    "    return '<{}.{}.{}>'.format(x,y,z)\n"
   ]
  },
  {
   "cell_type": "code",
   "execution_count": null,
   "metadata": {},
   "outputs": [],
   "source": [
    "print_vector(**dict_vec)"
   ]
  },
  {
   "cell_type": "code",
   "execution_count": null,
   "metadata": {},
   "outputs": [],
   "source": [
    "list_vecs = [1,0,1]\n",
    "print_vector(*list_vecs)"
   ]
  },
  {
   "cell_type": "code",
   "execution_count": null,
   "metadata": {},
   "outputs": [],
   "source": [
    "#type-checking\n",
    "\n",
    "def add_this(a: int, b: int) -> int:\n",
    "    return a + b\n",
    "\n",
    "add_this('e', 'a')"
   ]
  },
  {
   "cell_type": "code",
   "execution_count": null,
   "metadata": {},
   "outputs": [],
   "source": [
    "months = ['Jan', 'Feb']\n",
    "for i in months:\n",
    "#     print(\"{:<6}\".format(i), end='')\n",
    "    print(f'{i:<12}', end='')   # new format literal in python 3.6"
   ]
  },
  {
   "cell_type": "markdown",
   "metadata": {},
   "source": [
    "# Itertools"
   ]
  },
  {
   "cell_type": "code",
   "execution_count": null,
   "metadata": {},
   "outputs": [],
   "source": [
    "DATA = [100, 200, 300, 400]\n",
    "daily_data = [(i*5, j) for i, j in enumerate(DATA)]"
   ]
  },
  {
   "cell_type": "code",
   "execution_count": null,
   "metadata": {},
   "outputs": [],
   "source": [
    "daily_data"
   ]
  },
  {
   "cell_type": "code",
   "execution_count": null,
   "metadata": {},
   "outputs": [],
   "source": [
    "import itertools\n",
    "counter = itertools.count(start=5, step=5)\n",
    "print(counter)"
   ]
  },
  {
   "cell_type": "code",
   "execution_count": null,
   "metadata": {},
   "outputs": [],
   "source": [
    "daily_data = list(zip(itertools.count(start=5,\n",
    "                                      step=-2.5), DATA))\n",
    "daily_data"
   ]
  },
  {
   "cell_type": "code",
   "execution_count": null,
   "metadata": {},
   "outputs": [],
   "source": [
    "daily_data = list(itertools.zip_longest(range(10), DATA))\n",
    "daily_data"
   ]
  },
  {
   "cell_type": "code",
   "execution_count": null,
   "metadata": {},
   "outputs": [],
   "source": [
    "# counter = itertools.cycle([1,2,3])\n",
    "counter = itertools.cycle(('on', 'off'))\n",
    "# counter = itertools.repeat(2, times=3)\n",
    "\n",
    "for _i in range(6):\n",
    "    print(next(counter))"
   ]
  },
  {
   "cell_type": "code",
   "execution_count": null,
   "metadata": {},
   "outputs": [],
   "source": [
    "# squares = map(pow, range(10), itertools.repeat(2))\n",
    "squares = itertools.starmap(pow, [(0,2), (1,2), (2,2)])"
   ]
  },
  {
   "cell_type": "code",
   "execution_count": null,
   "metadata": {},
   "outputs": [],
   "source": [
    "list(squares)"
   ]
  },
  {
   "cell_type": "code",
   "execution_count": null,
   "metadata": {},
   "outputs": [],
   "source": [
    "\n",
    "#permutations and combinations\n",
    "# letters = ['a', 'b', 'c', 'd']\n",
    "letters = ['g', 'g', 't']\n",
    "\n",
    "numbers = [1, 2, 3, 4, 7, 19]\n",
    "names = ['Corey', 'Nicole']\n",
    "\n",
    "# result = itertools.combinations(letters, 3) # no (b,a) resulrs, it is combination, order does not matter\n",
    "result = itertools.permutations(letters, 3) # there's more results, it is permutation, order does matter\n",
    "# result = itertools.product(numbers, repeat=2)\n",
    "# result = itertools.combinations_with_replacement(letters, 3) #allows repeating individual elements: (a,a)\n",
    "print(list(result))\n",
    "# ?itertools.combinations_with_replacement\n",
    "\n",
    "# combined = itertools.chain(letters, numbers, names) #better than comcatenate \n",
    "# list(combined)\n",
    "\n",
    "\n",
    "\n",
    "\n",
    "\n"
   ]
  },
  {
   "cell_type": "code",
   "execution_count": null,
   "metadata": {},
   "outputs": [],
   "source": [
    "# slicing iterators\n",
    "result = itertools.islice(range(10), 1, 7, 2) # start, end, step\n",
    "\n",
    "result = itertools.accumulate(itertools.islice(numbers,1,5), operator.mul)\n",
    "import operator\n",
    "list(result)\n"
   ]
  },
  {
   "cell_type": "code",
   "execution_count": null,
   "metadata": {},
   "outputs": [],
   "source": [
    "people = [\n",
    "    {\n",
    "        'name': 'John Doe',\n",
    "        'city': 'Gotham',\n",
    "        'state': 'NY'\n",
    "    },\n",
    "    {\n",
    "        'name': 'Jane Doe',\n",
    "        'city': 'Kings Landing',\n",
    "        'state': 'NY'\n",
    "    },\n",
    "    {\n",
    "        'name': 'Corey Schafer',\n",
    "        'city': 'Boulder',\n",
    "        'state': 'CO'\n",
    "    },\n",
    "    {\n",
    "        'name': 'Al Einstein',\n",
    "        'city': 'Denver',\n",
    "        'state': 'CO'\n",
    "    },\n",
    "    {\n",
    "        'name': 'John Henry',\n",
    "        'city': 'Hinton',\n",
    "        'state': 'WV'\n",
    "    },\n",
    "    {\n",
    "        'name': 'Randy Moss',\n",
    "        'city': 'Rand',\n",
    "        'state': 'WV'\n",
    "    },\n",
    "    {\n",
    "        'name': 'Nicole K',\n",
    "        'city': 'Asheville',\n",
    "        'state': 'NC'\n",
    "    },\n",
    "    {\n",
    "        'name': 'Jim Doe',\n",
    "        'city': 'Charlotte',\n",
    "        'state': 'NC'\n",
    "    },\n",
    "    {\n",
    "        'name': 'Jane Taylor',\n",
    "        'city': 'Faketown',\n",
    "        'state': 'NC'\n",
    "    }\n",
    "]\n",
    "\n",
    "def get_state(person):\n",
    "    return person['state']\n",
    "\n",
    "person_group = itertools.groupby(people, get_state)\n",
    "#grroupby expects sorted values (states)\n",
    "\n",
    "\n",
    "for state, group in person_group:\n",
    "    print(state, len(list(group)))\n",
    "#     for person in group:\n",
    "#         print(person)\n"
   ]
  },
  {
   "cell_type": "markdown",
   "metadata": {},
   "source": [
    "# WAT"
   ]
  },
  {
   "cell_type": "code",
   "execution_count": null,
   "metadata": {},
   "outputs": [],
   "source": [
    "a = 2,1,3\n",
    "print(sorted(a) == sorted(a)) #true\n",
    "reversed(a) == reversed(a)"
   ]
  },
  {
   "cell_type": "code",
   "execution_count": null,
   "metadata": {},
   "outputs": [],
   "source": [
    "b = reversed(a)\n",
    "sorted(b) == sorted(b)"
   ]
  },
  {
   "cell_type": "code",
   "execution_count": null,
   "metadata": {},
   "outputs": [],
   "source": [
    "a = ([],)\n",
    "a[0].extend([1])"
   ]
  },
  {
   "cell_type": "code",
   "execution_count": null,
   "metadata": {},
   "outputs": [],
   "source": [
    "a[0].append(2)"
   ]
  },
  {
   "cell_type": "code",
   "execution_count": null,
   "metadata": {},
   "outputs": [],
   "source": [
    "a"
   ]
  },
  {
   "cell_type": "code",
   "execution_count": null,
   "metadata": {},
   "outputs": [],
   "source": [
    "a[0] += [2]"
   ]
  },
  {
   "cell_type": "code",
   "execution_count": null,
   "metadata": {},
   "outputs": [],
   "source": [
    "a"
   ]
  },
  {
   "cell_type": "code",
   "execution_count": null,
   "metadata": {},
   "outputs": [],
   "source": [
    "isinstance(type, object)"
   ]
  },
  {
   "cell_type": "code",
   "execution_count": null,
   "metadata": {},
   "outputs": [],
   "source": [
    "isinstance(object, type)"
   ]
  },
  {
   "cell_type": "code",
   "execution_count": null,
   "metadata": {},
   "outputs": [],
   "source": [
    "all([])"
   ]
  },
  {
   "cell_type": "code",
   "execution_count": null,
   "metadata": {},
   "outputs": [],
   "source": [
    "all([[]]) # bool of emply list is false"
   ]
  },
  {
   "cell_type": "code",
   "execution_count": null,
   "metadata": {},
   "outputs": [],
   "source": [
    "all([[[]]])"
   ]
  },
  {
   "cell_type": "code",
   "execution_count": null,
   "metadata": {},
   "outputs": [],
   "source": [
    "sum(\"\")"
   ]
  },
  {
   "cell_type": "code",
   "execution_count": null,
   "metadata": {},
   "outputs": [],
   "source": [
    "bool(\"\")"
   ]
  },
  {
   "cell_type": "code",
   "execution_count": null,
   "metadata": {},
   "outputs": [],
   "source": [
    "sum(\"\", ()) #tuple"
   ]
  },
  {
   "cell_type": "code",
   "execution_count": null,
   "metadata": {},
   "outputs": [],
   "source": [
    "sum(\"\", [])"
   ]
  },
  {
   "cell_type": "code",
   "execution_count": null,
   "metadata": {},
   "outputs": [],
   "source": [
    "sum(\"\" {})"
   ]
  },
  {
   "cell_type": "code",
   "execution_count": null,
   "metadata": {},
   "outputs": [],
   "source": [
    "sum(\"\", \"\")"
   ]
  },
  {
   "cell_type": "code",
   "execution_count": null,
   "metadata": {},
   "outputs": [],
   "source": [
    "a  = 1\n",
    "def foo():\n",
    "    return a\n",
    "foo()"
   ]
  },
  {
   "cell_type": "code",
   "execution_count": null,
   "metadata": {},
   "outputs": [],
   "source": [
    "def bar():\n",
    "#     global a \n",
    "    a += 1\n",
    "    return a  #unbound error without global\n",
    "bar()"
   ]
  },
  {
   "cell_type": "code",
   "execution_count": null,
   "metadata": {},
   "outputs": [],
   "source": [
    "x = float('nan')\n",
    "y = float('nan')"
   ]
  },
  {
   "cell_type": "code",
   "execution_count": null,
   "metadata": {},
   "outputs": [],
   "source": [
    "x == x"
   ]
  },
  {
   "cell_type": "code",
   "execution_count": null,
   "metadata": {},
   "outputs": [],
   "source": [
    "[x] == [x]"
   ]
  },
  {
   "cell_type": "code",
   "execution_count": null,
   "metadata": {},
   "outputs": [],
   "source": [
    "[x] == [y] #different links"
   ]
  },
  {
   "cell_type": "code",
   "execution_count": null,
   "metadata": {},
   "outputs": [],
   "source": [
    "a = 256\n",
    "b = 256\n",
    "a is b # True - число < 257 - это оптимизация целых чисел от -5 до 257, они существуют в единственном экземпляре\n",
    "print(id(a), id(b))\n",
    "# также справедливо для небольших строк \n",
    "# интернированные строки со специальной длиной \n",
    "# (обычно менее 20 символов)), которые являются одиночными \n",
    "# и имеют одинаковый id (фактически один объект с несколькими указателями). \n",
    "\n",
    "print('aa' * 2 is 'a' * 4) # true\n",
    "print('aa' * 20 is 'a' * 40) # false"
   ]
  },
  {
   "cell_type": "code",
   "execution_count": null,
   "metadata": {},
   "outputs": [],
   "source": [
    "a = 300\n",
    "b = 300\n",
    "a is b # > 257 - разные адреса"
   ]
  },
  {
   "cell_type": "code",
   "execution_count": null,
   "metadata": {},
   "outputs": [],
   "source": [
    "a, b = 300, 300 #интернирование целых чисел, одна константа\n",
    "a is b"
   ]
  },
  {
   "cell_type": "code",
   "execution_count": null,
   "metadata": {},
   "outputs": [],
   "source": [
    "x,y = float('nan'), float('nan')\n",
    "\n",
    "# x+y == y+x"
   ]
  },
  {
   "cell_type": "code",
   "execution_count": null,
   "metadata": {},
   "outputs": [],
   "source": [
    "passed = 3\n",
    "\n",
    "def add_to():\n",
    "    return passed + 2\n",
    "\n",
    "#this is a simplest closure example: any variable  outside the scope of the function ised inside this function is a closure.\n",
    "\n",
    "add_to()"
   ]
  },
  {
   "cell_type": "markdown",
   "metadata": {},
   "source": [
    "# stackoverflow"
   ]
  },
  {
   "cell_type": "code",
   "execution_count": null,
   "metadata": {},
   "outputs": [],
   "source": [
    "prize_list = ['p1','p2', 'p3', 'p4', 'p5', 'p6']\n",
    "email_list = ['e1', 'e2', 'e3', 'e4']\n",
    "\n",
    "matches = list(zip(prize_list, email_list))\n",
    "\n",
    "for prize, winner in matches:\n",
    "    print(f'{prize} goes to {winner}')\n",
    "    print(\"Before: \", prize_list)\n",
    "    print('removing', prize)\n",
    "    prize_list.remove(prize)\n",
    "    print('{} prizes left'.format(len(prize_list)))\n",
    "    print(\"After:\", prize_list)\n",
    "    \n",
    "# prize_file = 'prizeFile.txt'\n",
    "# with open(prize_file, \"w\") as file_:\n",
    "#     for prize in prize_list:\n",
    "#         file_.write(prize)\n",
    "#         file_.write('\\n')"
   ]
  },
  {
   "cell_type": "code",
   "execution_count": null,
   "metadata": {},
   "outputs": [],
   "source": [
    "from heapq import heapify, heappop, heappush"
   ]
  },
  {
   "cell_type": "code",
   "execution_count": null,
   "metadata": {},
   "outputs": [],
   "source": [
    "data = [10, -3, 5, 7, 9, 2, 4, 6, 8, -3]\n",
    "heapify(data)\n",
    "print((data))"
   ]
  },
  {
   "cell_type": "code",
   "execution_count": null,
   "metadata": {},
   "outputs": [],
   "source": [
    "import bisect\n",
    "dir(bisect)"
   ]
  },
  {
   "cell_type": "code",
   "execution_count": null,
   "metadata": {},
   "outputs": [],
   "source": [
    "data = [10, -3, 5,1, 7, 9, 2, 4, 6, 8, -3]\n",
    "data.sort()\n",
    "print(data)\n",
    "bisect.bisect_right(data, 3)"
   ]
  },
  {
   "cell_type": "code",
   "execution_count": null,
   "metadata": {},
   "outputs": [],
   "source": [
    "bisect.insort(data, 3)"
   ]
  },
  {
   "cell_type": "code",
   "execution_count": null,
   "metadata": {},
   "outputs": [],
   "source": [
    "data"
   ]
  },
  {
   "cell_type": "code",
   "execution_count": 5,
   "metadata": {},
   "outputs": [],
   "source": [
    "colors = [f'color{x}' for x in range(1,10)]"
   ]
  },
  {
   "cell_type": "code",
   "execution_count": 6,
   "metadata": {},
   "outputs": [
    {
     "data": {
      "text/plain": [
       "['color1',\n",
       " 'color2',\n",
       " 'color3',\n",
       " 'color4',\n",
       " 'color5',\n",
       " 'color6',\n",
       " 'color7',\n",
       " 'color8',\n",
       " 'color9']"
      ]
     },
     "execution_count": 6,
     "metadata": {},
     "output_type": "execute_result"
    }
   ],
   "source": [
    "colors"
   ]
  },
  {
   "cell_type": "code",
   "execution_count": null,
   "metadata": {},
   "outputs": [],
   "source": [
    "btnid = [f'c{x}' for x in range(9)]\n",
    "btnid"
   ]
  },
  {
   "cell_type": "code",
   "execution_count": null,
   "metadata": {},
   "outputs": [],
   "source": [
    "def d(message='hi'):\n",
    "    print(message)\n",
    "\n",
    "d()"
   ]
  },
  {
   "cell_type": "code",
   "execution_count": null,
   "metadata": {},
   "outputs": [],
   "source": [
    "from functools import reduce\n",
    "nums=[1,2,3,4,5,6,7]\n",
    "print(reduce(lambda x, y: x+y, nums))"
   ]
  },
  {
   "cell_type": "code",
   "execution_count": null,
   "metadata": {},
   "outputs": [],
   "source": [
    "sum(nums)"
   ]
  }
 ],
 "metadata": {
  "kernelspec": {
   "display_name": "Python 3",
   "language": "python",
   "name": "python3"
  },
  "language_info": {
   "codemirror_mode": {
    "name": "ipython",
    "version": 3
   },
   "file_extension": ".py",
   "mimetype": "text/x-python",
   "name": "python",
   "nbconvert_exporter": "python",
   "pygments_lexer": "ipython3",
   "version": "3.7.3"
  }
 },
 "nbformat": 4,
 "nbformat_minor": 2
}
