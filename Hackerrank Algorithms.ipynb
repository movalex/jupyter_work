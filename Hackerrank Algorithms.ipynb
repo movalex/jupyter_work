{
 "cells": [
  {
   "cell_type": "markdown",
   "metadata": {},
   "source": [
    "# Algorithms Warmup\n",
    "https://www.hackerrank.com/domains/algorithms"
   ]
  },
  {
   "cell_type": "markdown",
   "metadata": {},
   "source": [
    "### Diagonal Difference \n",
    "Given a square matrix of size N X N, calculate the absolute difference between the sums of its diagonals."
   ]
  },
  {
   "cell_type": "code",
   "execution_count": null,
   "metadata": {
    "scrolled": true
   },
   "outputs": [],
   "source": [
    "a = [[11, 2, 4, 3], [4, 5, 6, 21], [10, 8, -12,23], [27,213,12,3]]\n",
    "pos0 = 0\n",
    "pos1 = len(a)-1\n",
    "d1 = []\n",
    "d2 = []\n",
    "for i in a:\n",
    "    d1.append(i[pos0])\n",
    "    pos0 += 1\n",
    "    d2.append(i[pos1])\n",
    "    pos1 -= 1\n",
    "print(d1,d2)"
   ]
  },
  {
   "cell_type": "code",
   "execution_count": null,
   "metadata": {
    "scrolled": false
   },
   "outputs": [],
   "source": [
    "arr=[[11, 2, 4], [4, 5, 6], [10, 8, -12]]\n",
    "s1,s2 = 0,0\n",
    "for i in range(3):\n",
    "    s1 += arr[i][i]\n",
    "    s2 += arr[-i-1][i]\n",
    "print(abs(s1-s2))\n",
    "print(arr[-1][0])\n",
    "print(arr[-2][1])\n",
    "print(arr[-3][2])"
   ]
  },
  {
   "cell_type": "markdown",
   "metadata": {},
   "source": [
    "### Mini-Max Sum\n",
    "Given five positive integers, find the minimum and maximum values that can be calculated by summing exactly four of the five integers. Then print the respective minimum and maximum values as a single line of two space-separated long integers."
   ]
  },
  {
   "cell_type": "code",
   "execution_count": null,
   "metadata": {
    "scrolled": true
   },
   "outputs": [],
   "source": [
    "nl = []\n",
    "arr = [1, 2, 3, 4, 5]\n",
    "\n",
    "\n",
    "for i in range(len(arr)):\n",
    "    nn = arr[:i]+arr[i+1:]\n",
    "    nl.append(sum(nn))\n",
    "\n",
    "    \n",
    "print(min(nl), max(nl))\n",
    "    "
   ]
  },
  {
   "cell_type": "code",
   "execution_count": null,
   "metadata": {
    "scrolled": true
   },
   "outputs": [],
   "source": [
    "ar = sorted(arr)\n",
    "print(sum(ar[:-1]), sum(ar[1:]))"
   ]
  },
  {
   "cell_type": "code",
   "execution_count": null,
   "metadata": {},
   "outputs": [],
   "source": [
    "toy=arr\n",
    "ans=sum(toy)\n",
    "toy.sort()\n",
    "print(ans-toy[len(toy)-1],ans-toy[0])"
   ]
  },
  {
   "cell_type": "markdown",
   "metadata": {},
   "source": [
    "### Birthday Cake Candles\n",
    "Colleen is turning _n_ years old! Therefore, she has _n_ candles of various heights on her cake, and candle _i_ has height _height<sub>i</sub>_. Because the taller candles tower over the shorter ones, Colleen can only blow out the tallest candles.\n",
    "Given _height<sub>i</sub>_ the  for each individual candle, find and print the number of candles she can successfully blow out.\n",
    "\n",
    "(Find talles candles, all the biggest numbers)"
   ]
  },
  {
   "cell_type": "code",
   "execution_count": null,
   "metadata": {
    "collapsed": true
   },
   "outputs": [],
   "source": [
    "ar  = [3,29, 2, 1, 3, 3, 4, 29, 29]"
   ]
  },
  {
   "cell_type": "code",
   "execution_count": null,
   "metadata": {},
   "outputs": [],
   "source": [
    "# print(ar)\n",
    "mm = ar.count(max(ar))\n",
    "print(mm)"
   ]
  },
  {
   "cell_type": "code",
   "execution_count": null,
   "metadata": {},
   "outputs": [],
   "source": [
    "cnt = 0\n",
    "mm = max(ar)\n",
    "for i in ar:\n",
    "    if i == max(ar):\n",
    "        cnt += 1\n",
    "print(cnt)"
   ]
  },
  {
   "cell_type": "code",
   "execution_count": null,
   "metadata": {
    "scrolled": true
   },
   "outputs": [],
   "source": [
    "ar.sort(reverse=True)\n",
    "print(ar.count(ar[0]))"
   ]
  },
  {
   "cell_type": "markdown",
   "metadata": {},
   "source": [
    "### Time Conversion \n",
    "Given a time in 12-hour AM/PM format, convert it to military (24-hour) time."
   ]
  },
  {
   "cell_type": "code",
   "execution_count": null,
   "metadata": {},
   "outputs": [],
   "source": [
    "time = \"12:40:00am\"\n",
    "\n",
    "\n",
    "def time_conversion(time):\n",
    "    time_list = list(map(int, time[:-2].split(\":\")))\n",
    "    if \"PM\" in time and time_list[0] < 12:\n",
    "        time_list[0] += 12\n",
    "    elif \"PM\" not in time and time_list[0] == 12:\n",
    "         time_list[0] = 0\n",
    "    time_str = map(lambda x: str(x).rjust(2,'0'), time_list)\n",
    "    return \":\".join(time_str)\n",
    "\n",
    "s = time.strip()\n",
    "time_conversion(s)\n",
    "    "
   ]
  },
  {
   "cell_type": "code",
   "execution_count": null,
   "metadata": {},
   "outputs": [],
   "source": [
    "time = \"8:40:00pm\"\n",
    "is_pm = time[-2:].lower() == 'pm'\n",
    "time_list = list(map(int, time[:-2].split(':')))\n",
    "\n",
    "if is_pm and time_list[0] < 12:\n",
    "    time_list[0] += 12\n",
    "\n",
    "if not is_pm and time_list[0] == 12:\n",
    "    time_list[0] = 0\n",
    "\n",
    "print(\"'{}'\".format(':'.join(map(lambda x: str(x).zfill(2), time_list))))"
   ]
  },
  {
   "cell_type": "code",
   "execution_count": null,
   "metadata": {},
   "outputs": [],
   "source": [
    "f = '233'\n",
    "f.rjust(4, '0')"
   ]
  },
  {
   "cell_type": "markdown",
   "metadata": {},
   "source": [
    "# Algorithms Implementation\n",
    "### Student grades\n",
    "or each _grade_ of the _n_ grades, print the rounded grade on a new line."
   ]
  },
  {
   "cell_type": "code",
   "execution_count": null,
   "metadata": {
    "collapsed": true
   },
   "outputs": [],
   "source": [
    "n = 4\n",
    "grades = [84, 94, 21, 0, 18, 100, 18, 62, 30, 61, 53, 0, 43, 2, 29, 53, 61, 40, 14, 4, 29, 98, 37, 23, 46, 9, 79, 62, 20, 38, 51, 99, 59, 47, 4, 86, 61, 68, 17, 45, 6, 1, 95, 95]\n",
    "\n",
    "def solve(grades):\n",
    "    for i in grades:\n",
    "        nextmultiple = i + (5 - i % 5)\n",
    "        if i >= 40:\n",
    "            if nextmultiple - i < 3:\n",
    "                yield nextmultiple\n",
    "            else:\n",
    "                yield i\n",
    "        elif i < 38:\n",
    "            yield i\n",
    "        else:\n",
    "            yield nextmultiple\n",
    "\n",
    "print(list(solve(grades)))"
   ]
  },
  {
   "cell_type": "code",
   "execution_count": null,
   "metadata": {},
   "outputs": [],
   "source": [
    "grades = [84, 94, 21, 0, 18, 100, 18, 62, 30, 61, 53, 0, 43, 2, 29, 53, 61, 40, 14, 4, 29, 98, 37, 23, 46, 9, 79, 62, 20, 38, 51, 99, 59, 47, 4, 86, 61, 68, 17, 45, 6, 1, 95, 95]\n",
    "\n",
    "\n",
    "def solve(grades):\n",
    "    for i in range(len(grades)):\n",
    "        c = grades[i] % 5\n",
    "        if grades[i] >= 38 and c >= 3:\n",
    "            grades[i] += 5-c\n",
    "    return grades\n",
    "               \n",
    "s = solve(grades)\n",
    "print(s)"
   ]
  },
  {
   "cell_type": "markdown",
   "metadata": {},
   "source": [
    "### Apple and Orange\n",
    "\n",
    "Sam's house has an apple tree and an orange tree that yield an abundance of fruit. In the diagram below, the red region denotes his house, where -s- is the start point and -t- is the end point.\n",
    "\n",
    "The apple tree is to the left of his house, and the orange tree is to its right. You can assume the trees are located on a single point, where the apple tree is at point _a_ and the orange tree is at point _b_.\n",
    "\n",
    "![](https://s3.amazonaws.com/hr-challenge-images/25220/1474218925-f2a791d52c-Appleandorange2.png)\n",
    "\n",
    "When a fruit falls from its tree, it lands _d_ units of distance from its tree of origin along the _x_-axis. A negative value of  means the fruit fell  units to the tree's left, and a positive value of  means it falls  units to the tree's right.\n",
    "\n",
    "Given the value of _d_ for _m_ apples and  oranges, can you determine how many apples and oranges will fall on Sam's house (i.e., in the inclusive range [_s, t_])? Print the number of apples that fall on Sam's house as your first line of output, then print the number of oranges that fall on Sam's house as your second line of output."
   ]
  },
  {
   "cell_type": "code",
   "execution_count": null,
   "metadata": {
    "collapsed": true
   },
   "outputs": [],
   "source": [
    "s, t = 7, 11"
   ]
  },
  {
   "cell_type": "code",
   "execution_count": null,
   "metadata": {},
   "outputs": [],
   "source": [
    "# you have 400 houses to deliver to in Brooklyn Heights. \n",
    "# It takes one paperboy 30 minutes to deliver to 50 houses and you have one hour to complete the job.\n",
    "\n",
    "class Route:\n",
    "    def __init__(neighbourhood, number_of_houses, minutes_per50_houses, delivery_time_in_hours):\n",
    "        self.neighbourhood = neighbourhood\n",
    "        self.number_of_houses = number_of_houses\n",
    "        self.minutes_per50_houses = minutes_per50_houses\n",
    "        self.delivery_time_in_hours = delivery_time_in_hours\n",
    "    \n",
    "    def paperboys_needed(self):\n",
    "        pass\n",
    "\n",
    "        \n",
    "Test.assert_equals(Route(\"Brooklyn Heights\", 400, 30, 1).paperboys_needed(), \"2 paperboys needed for Brooklyn Heights\")\n",
    "Test.assert_equals(Route(\"Highland Park\", 100, 15, .25).paperboys_needed(), \"You and Stripes can handle the work yourselves\")\n",
    "        "
   ]
  },
  {
   "cell_type": "markdown",
   "metadata": {},
   "source": [
    "# Sock Merchant\n",
    "John works at a clothing store. He has a large pile of socks that he must pair by color for sale. Given an array of integers representing the color of each sock, determine how many pairs of socks with matching colors there are.\n",
    "\n",
    "For example, there are  socks with colors . There is one pair of color  and one of color . There are three odd socks left, one of each color. The number of pairs is ."
   ]
  },
  {
   "cell_type": "code",
   "execution_count": null,
   "metadata": {},
   "outputs": [],
   "source": [
    "import math\n",
    "import os\n",
    "import random\n",
    "import re\n",
    "import sys\n",
    "from collections import Counter\n",
    "\n",
    "# Complete the sockMerchant function below.\n",
    "def sockMerchant(n, ar):\n",
    "    all_colors = set(ar)\n",
    "    count_socks = {}\n",
    "    for sock in ar:\n",
    "        count_socks[sock] = count_socks.get(sock, 0) + 1\n",
    "    result = [sock // 2 for sock in count_socks.values()]\n",
    "    return sum(result)\n",
    "\n",
    "n = 9\n",
    "ar = list(map(int, '10 20 20 10 10 30 50 10 20'.split(' ')))\n",
    "print(Counter(ar))\n",
    "sockMerchant(n, ar)\n",
    "\n",
    "    "
   ]
  },
  {
   "cell_type": "markdown",
   "metadata": {},
   "source": [
    "## [Page count](https://www.hackerrank.com/challenges/drawing-book/problem?utm_campaign=challenge-recommendation&utm_medium=email&utm_source=24-hour-campaign)"
   ]
  },
  {
   "cell_type": "code",
   "execution_count": null,
   "metadata": {},
   "outputs": [],
   "source": [
    "\n",
    "def pageCount(n, p):\n",
    "    pagelist = list(range(n+1))\n",
    "    pagelist[0] = 'firstPage'\n",
    "    if n % 2 == 0:\n",
    "        pagelist.append('lastPage')\n",
    "    pages = list(zip(pagelist[0::2], pagelist[1::2]))\n",
    "    print(pages)\n",
    "    mid = len(pages) // 2\n",
    "    print(f'middle is on page {pages[mid]}')\n",
    "    for take in pages:\n",
    "        if p in take:\n",
    "            place = pages.index(take)\n",
    "    if place < mid:\n",
    "        return place\n",
    "    return (len(pages)-1) - place\n",
    "\n",
    "pageCount(36,16)"
   ]
  },
  {
   "cell_type": "markdown",
   "metadata": {},
   "source": [
    "## [Counting Valleys](https://www.hackerrank.com/challenges/counting-valleys/problem?h_l=interview&playlist_slugs%5B%5D=interview-preparation-kit&playlist_slugs%5B%5D=warmup)\n"
   ]
  },
  {
   "cell_type": "code",
   "execution_count": null,
   "metadata": {},
   "outputs": [],
   "source": [
    "def countingValleys(n, s):\n",
    "    cnt = 0\n",
    "    level = 0\n",
    "    for i in range(n):\n",
    "        if s[i] == 'U':\n",
    "            level += 1\n",
    "            if level == 0:\n",
    "                cnt += 1\n",
    "        elif s[i] == 'D':\n",
    "            level -= 1\n",
    "    return cnt\n",
    "\n",
    "countingValleys(11, 'DDUUDDDUUUU')"
   ]
  },
  {
   "cell_type": "markdown",
   "metadata": {},
   "source": [
    "## [Jumping Clouds](https://www.hackerrank.com/challenges/jumping-on-the-clouds/problem)"
   ]
  },
  {
   "cell_type": "code",
   "execution_count": null,
   "metadata": {},
   "outputs": [],
   "source": [
    "clouds = [0,0,0,1,0,1,0,1,0,0,0,0,0,0,1]\n",
    "\n",
    "\n",
    "def jumpingOnClouds(c):\n",
    "    count=0\n",
    "    jump=0\n",
    "    for i in c:\n",
    "        if i==0:\n",
    "            count+=1\n",
    "        else:\n",
    "            jump=jump+count//2+1\n",
    "            count=0\n",
    "    if count>1:\n",
    "        jump=jump+count//2\n",
    "    return jump\n",
    "\n",
    "\n",
    "\n",
    "def jump_clouds(c):\n",
    "    if len(c)-2 == 0:\n",
    "        return 1\n",
    "    path = 0\n",
    "    i = 0\n",
    "    cnt = 0\n",
    "    while cnt < len(c):\n",
    "        if i < len(c)-2 and c[i+2] == 0:\n",
    "            path += 1\n",
    "            i += 2\n",
    "            cnt += 2\n",
    "        elif i < len(c)-1 and c[i+1] == 0:\n",
    "            path += 1\n",
    "            i += 1\n",
    "            cnt += 1\n",
    "        else:\n",
    "            cnt += 1\n",
    "    return path\n",
    "\n",
    "def jump_clouds2(c):\n",
    "    result = 0 \n",
    "    i = 0\n",
    "    n = len(c)\n",
    "    while i < n - 1:\n",
    "        if i + 2 < n and c[i+2] == 0:\n",
    "            i += 2\n",
    "            result += 1\n",
    "        else:\n",
    "            i += 1\n",
    "            result += 1\n",
    "    return result\n",
    "\n",
    "a,b,c = jump_clouds(clouds), jump_clouds2(clouds), jumpingOnClouds(clouds)\n",
    "print(a,b,c)\n",
    "    "
   ]
  },
  {
   "cell_type": "code",
   "execution_count": null,
   "metadata": {},
   "outputs": [],
   "source": [
    "def breakingRecords(scores):\n",
    "    high = scores[0]\n",
    "    low = scores[0]\n",
    "    cnt_up = 0\n",
    "    cnt_down = 0\n",
    "    for i in scores:\n",
    "        if i > high:\n",
    "            high = i\n",
    "            cnt_up += 1\n",
    "        if i < low:\n",
    "            low = i\n",
    "            cnt_down += 1\n",
    "    return cnt_up, cnt_down"
   ]
  },
  {
   "cell_type": "code",
   "execution_count": null,
   "metadata": {},
   "outputs": [],
   "source": [
    "s = list(map(int,'3 4 21 36 10 28 35 5 24 42'.split(' ')))\n",
    "breakingRecords(s)"
   ]
  },
  {
   "cell_type": "code",
   "execution_count": null,
   "metadata": {},
   "outputs": [],
   "source": [
    "'{:x}'.format(17)"
   ]
  },
  {
   "cell_type": "code",
   "execution_count": null,
   "metadata": {},
   "outputs": [],
   "source": [
    "'{:o}'.format(1)"
   ]
  },
  {
   "cell_type": "code",
   "execution_count": null,
   "metadata": {},
   "outputs": [],
   "source": [
    "'{:b}'.format(17)"
   ]
  },
  {
   "cell_type": "code",
   "execution_count": null,
   "metadata": {},
   "outputs": [],
   "source": [
    "def print_formatted(number):\n",
    "    len_tab = len('{:b}'.format(number))+1\n",
    "    for i in range(number):\n",
    "        i += 1\n",
    "        o = '{:o}'.format(i)\n",
    "        h = '{:x}'.format(i).upper()\n",
    "        b = '{:b}'.format(i)\n",
    "        print('{}{:>{ln}}{:>{ln}}{:>{ln}}'.format(i,o,h,b,ln=len_tab))\n",
    "\n",
    "print_formatted(17)"
   ]
  },
  {
   "cell_type": "markdown",
   "metadata": {},
   "source": [
    "## [Strange Counter](https://www.hackerrank.com/challenges/strange-code/problem?utm_campaign=challenge-recommendation&utm_medium=email&utm_source=24-hour-campaign)\n",
    "\n",
    "![](https://s3.amazonaws.com/hr-challenge-images/22185/1469447349-bae87a5071-strange1.png)"
   ]
  },
  {
   "cell_type": "code",
   "execution_count": null,
   "metadata": {},
   "outputs": [],
   "source": [
    "\n",
    "# def strangeCounter(t):\n",
    "#     x_init = 3\n",
    "#     lst = [x_init]\n",
    "#     cnt = 1\n",
    "#     result = {}\n",
    "#     index = t\n",
    "\n",
    "#     while t:\n",
    "# #         print(x_init, cnt)\n",
    "#         result[cnt] = x_init\n",
    "#         x_init -= 1\n",
    "#         if x_init == 0:\n",
    "#             lst.append(lst[-1] * 2)\n",
    "#             x_init = lst[-1]\n",
    "#         t -= 1\n",
    "#         cnt += 1\n",
    "#     return result[index]\n",
    "\n",
    "\n",
    "from collections import deque\n",
    "\n",
    "def strangeCounter(t):\n",
    "    x_init = 3\n",
    "    lst = deque([x_init])\n",
    "#     lst = [x_init]\n",
    "    cnt = 1\n",
    "    result = {}\n",
    "    index = t\n",
    "    while t:\n",
    "        print(x_init, cnt)\n",
    "        result[cnt] = x_init\n",
    "        x_init -= 1\n",
    "        if x_init == 0:\n",
    "            lst.append(lst[-1] << 1)\n",
    "            x_init = lst[-1]\n",
    "        t -= 1\n",
    "        cnt += 1\n",
    "    return result[index]\n",
    "\n",
    "    \n",
    "#     for i in range(t):\n",
    "#         last = lst[-1]\n",
    "#         x = lst[-1] - i \n",
    "#         if x == 1:\n",
    "#             lst.append(lst[-1] * 2)\n",
    "#             x_init = lst[-1]\n",
    "\n",
    "#         print(x, i+1, last)\n",
    "\n",
    "    \n",
    "    \n",
    "if __name__ == '__main__':\n",
    "    s = strangeCounter(20)\n",
    "    print(s)\n"
   ]
  },
  {
   "cell_type": "code",
   "execution_count": null,
   "metadata": {},
   "outputs": [],
   "source": [
    "ss = [x*2 for x in (range(0,20,3)) ]"
   ]
  },
  {
   "cell_type": "code",
   "execution_count": 111,
   "metadata": {},
   "outputs": [
    {
     "name": "stdout",
     "output_type": "stream",
     "text": [
      "1 3\n",
      "4 6\n",
      "10 12\n",
      "(22, 24)\n",
      "{22: 24, 23: 23, 24: 22, 25: 21, 26: 20, 27: 19, 28: 18, 29: 17, 30: 16, 31: 15, 32: 14, 33: 13, 34: 12, 35: 11, 36: 10, 37: 9, 38: 8, 39: 7, 40: 6, 41: 5, 42: 4, 43: 3, 44: 2, 45: 1}\n"
     ]
    }
   ],
   "source": [
    "t = 1\n",
    "# ss = [3*2**x for x in range(10) if x <= target]\n",
    "# ll = [3*2**x-2 for x in range(10)]\n",
    "\n",
    "forward = []\n",
    "\n",
    "\n",
    "def cnt(t):\n",
    "    x = 0\n",
    "    y = 0\n",
    "    y1 = 0\n",
    "    while x < t:\n",
    "        y1 = 3*2**x\n",
    "        y = y1-2\n",
    "        if t in range(y, y + y1):\n",
    "            return y, y1\n",
    "        x += 1\n",
    "        print(y, y1)\n",
    "\n",
    "c = cnt(t)\n",
    "print(c)\n",
    "        \n",
    "# x = y - 2\n",
    "\n",
    "rev = list(range(c[1], 0, -1))\n",
    "fwd = list(range(c[0], c[0] + c[1]))\n",
    "# print(rev, fwd)\n",
    "\n",
    "result = {k:v for k, v in zip(fwd, rev)}\n",
    "print(result[t])\n",
    "    \n",
    "# target = {k:v for k, v in zip(ll,ss)}\n",
    "# print(target)\n",
    "# fetch = target[1534]\n",
    "\n",
    "# print(fetch)"
   ]
  },
  {
   "cell_type": "code",
   "execution_count": 251,
   "metadata": {},
   "outputs": [
    {
     "name": "stdout",
     "output_type": "stream",
     "text": [
      "1 9 8 -7\n",
      "2 21 -4 5\n",
      "result:  5\n"
     ]
    }
   ],
   "source": [
    "t = 17\n",
    "i=0\n",
    "increment=3\n",
    "while t - increment > 0:\n",
    "    i+=1;\n",
    "    increment += 3*(2**i)\n",
    "    print(i,increment, t - increment, increment-t+1)\n",
    "print('result: ', increment-t+1)"
   ]
  },
  {
   "cell_type": "code",
   "execution_count": 154,
   "metadata": {},
   "outputs": [
    {
     "name": "stdout",
     "output_type": "stream",
     "text": [
      "6485\n"
     ]
    }
   ],
   "source": [
    "t = 222\n",
    "t1 = 3\n",
    "while(t1 < t):\n",
    "    t -= t1\n",
    "    t1 = t1 << 1 \n",
    "    t1*=t1\n",
    "print(t1 - t + 1)"
   ]
  },
  {
   "cell_type": "markdown",
   "metadata": {},
   "source": [
    "## [Minion Game](https://www.hackerrank.com/challenges/strange-code/leaderboard?page=8)\n",
    "\n",
    "![](https://s3.amazonaws.com/hr-challenge-images/9693/1450330231-04db904008-banana.png)"
   ]
  },
  {
   "cell_type": "code",
   "execution_count": null,
   "metadata": {},
   "outputs": [],
   "source": []
  }
 ],
 "metadata": {
  "kernelspec": {
   "display_name": "Python 3",
   "language": "python",
   "name": "python3"
  },
  "language_info": {
   "codemirror_mode": {
    "name": "ipython",
    "version": 3
   },
   "file_extension": ".py",
   "mimetype": "text/x-python",
   "name": "python",
   "nbconvert_exporter": "python",
   "pygments_lexer": "ipython3",
   "version": "3.6.6"
  }
 },
 "nbformat": 4,
 "nbformat_minor": 2
}
