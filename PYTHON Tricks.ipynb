{
 "cells": [
  {
   "cell_type": "code",
   "execution_count": 160,
   "metadata": {},
   "outputs": [],
   "source": [
    "class ManagedFile():\n",
    "    def __init__(self, name):\n",
    "        self.name = name\n",
    "        \n",
    "    def __enter__(self):\n",
    "        self.file = open(self.name, 'w')\n",
    "        return self.file\n",
    "    \n",
    "    def __exit__(self, exc_type, exc_val, exc_tb):\n",
    "        if self.file:\n",
    "            self.file.close()\n",
    "            \n",
    "with ManagedFile('simple1.csv') as f:\n",
    "    f.write('\"Hello,\",')\n",
    "    f.write('\"world!\"')"
   ]
  },
  {
   "cell_type": "code",
   "execution_count": 161,
   "metadata": {},
   "outputs": [],
   "source": [
    "class Indenter():\n",
    "    def __init__(self, indent=0):\n",
    "        self.indent = indent\n",
    "    \n",
    "    def __enter__(self):\n",
    "        self.indent += 1\n",
    "        return self\n",
    "    \n",
    "    def __exit__(self, exc_type, exc_val, exc_tb):\n",
    "        self.indent -= 1\n",
    "        \n",
    "    def print(self, text):\n",
    "        self.text = text\n",
    "        print('    '*self.indent + self.text)\n",
    "\n"
   ]
  },
  {
   "cell_type": "code",
   "execution_count": null,
   "metadata": {},
   "outputs": [],
   "source": [
    "with Indenter() as indent:\n",
    "    print('hello!')\n",
    "    indent.print('hi')\n",
    "    with indent:\n",
    "        indent.print('hello!')\n",
    "        with indent:\n",
    "            indent.print('indented even further')"
   ]
  },
  {
   "cell_type": "code",
   "execution_count": null,
   "metadata": {},
   "outputs": [],
   "source": [
    "from contextlib import contextmanager\n",
    "\n",
    "@contextmanager\n",
    "def managed_file(name):\n",
    "    try:\n",
    "        f = open(name, 'w')\n",
    "        yield f\n",
    "    finally:\n",
    "        f.close()\n",
    "\n",
    "with managed_file('hello.txt') as f:\n",
    "    f.write('hello, world!')\n",
    "    f.write('bye now')"
   ]
  },
  {
   "cell_type": "code",
   "execution_count": 162,
   "metadata": {},
   "outputs": [],
   "source": [
    "class contextmanager:\n",
    "    def __init__(self, gen):\n",
    "        self.gen = gen\n",
    "    def __call__(self, *args, **kwargs):\n",
    "        self.args, self.kwargs = args, kwargs\n",
    "        return self\n",
    "    def __enter__(self):\n",
    "        self.gen_inst = self.gen(*self.args, **self.kwargs)\n",
    "        next(self.gen_inst)\n",
    "    def __exit__(self, *args):\n",
    "        next(self.gen_inst, None)\n",
    "        "
   ]
  },
  {
   "cell_type": "code",
   "execution_count": 163,
   "metadata": {},
   "outputs": [
    {
     "name": "stdout",
     "output_type": "stream",
     "text": [
      "0000\n",
      "____1111\n",
      "________2222\n",
      "____________3333\n"
     ]
    }
   ],
   "source": [
    "from contextlib import contextmanager\n",
    "\n",
    "@contextmanager\n",
    "def indenter(level=0):\n",
    "    def prints(text):\n",
    "        print('____' * level + text)\n",
    "    try:\n",
    "        level += 1\n",
    "        yield prints\n",
    "    finally:\n",
    "        level -= 1\n",
    "    \n",
    "            \n",
    "with indenter() as ind:\n",
    "    print('0000')\n",
    "    ind('1111')\n",
    "    with indenter(1) as ind:\n",
    "        ind('2222')\n",
    "    with indenter(2) as ind:\n",
    "        ind('3333')\n",
    "\n",
    "#wrong!\n"
   ]
  },
  {
   "cell_type": "code",
   "execution_count": 169,
   "metadata": {},
   "outputs": [
    {
     "name": "stdout",
     "output_type": "stream",
     "text": [
      "aaa\n",
      "____aaa\n",
      "________bbb\n",
      "____________ccc\n"
     ]
    }
   ],
   "source": [
    "from contextlib import contextmanager\n",
    "\n",
    "def indenter():\n",
    "    level = 0\n",
    "\n",
    "    def prints(text):\n",
    "        print('____' * level + text)\n",
    "\n",
    "    @contextmanager\n",
    "    def switcher():\n",
    "        nonlocal level\n",
    "        try:\n",
    "            level += 1\n",
    "            yield prints\n",
    "        finally:\n",
    "            level -= 1\n",
    "    return switcher\n",
    "\n",
    "\n",
    "ind = indenter()\n",
    "with ind() as print_ind:\n",
    "    print('aaa')\n",
    "    print_ind('aaa')\n",
    "    with ind() as print_ind:\n",
    "        print_ind('bbb')\n",
    "        with ind() as print_ind:\n",
    "            print_ind('ccc')"
   ]
  },
  {
   "cell_type": "code",
   "execution_count": 22,
   "metadata": {},
   "outputs": [
    {
     "name": "stdout",
     "output_type": "stream",
     "text": [
      "The answer is 42\n"
     ]
    }
   ],
   "source": [
    "#closures are functions with preserved data\n",
    "def foo(num):\n",
    "    def bar(text):\n",
    "        print(text, num)\n",
    "    return bar\n",
    "\n",
    "s = foo(42)\n",
    "s('The answer is')"
   ]
  },
  {
   "cell_type": "code",
   "execution_count": 33,
   "metadata": {},
   "outputs": [],
   "source": [
    "ss = [1,2,3,4]"
   ]
  },
  {
   "cell_type": "code",
   "execution_count": 42,
   "metadata": {},
   "outputs": [],
   "source": [
    "s = ', '.join([str(i) for i in ss])"
   ]
  },
  {
   "cell_type": "code",
   "execution_count": 43,
   "metadata": {},
   "outputs": [
    {
     "data": {
      "text/plain": [
       "'1, 2, 3, 4'"
      ]
     },
     "execution_count": 43,
     "metadata": {},
     "output_type": "execute_result"
    }
   ],
   "source": [
    "s"
   ]
  },
  {
   "cell_type": "markdown",
   "metadata": {},
   "source": [
    "# Lambdas\n",
    "Basically labdas are nameless functions, they work as a functions:\n",
    "`lambda x: x[1]` equals `def func(x): return x[1]`"
   ]
  },
  {
   "cell_type": "code",
   "execution_count": 7,
   "metadata": {},
   "outputs": [],
   "source": [
    "tuples = [(1,'d'), (2, 'f'), (3, 'a'), (4, 'b'), (9, 'c')]"
   ]
  },
  {
   "cell_type": "code",
   "execution_count": 11,
   "metadata": {},
   "outputs": [
    {
     "data": {
      "text/plain": [
       "[(3, 'a'), (4, 'b'), (9, 'c'), (1, 'd'), (2, 'f')]"
      ]
     },
     "execution_count": 11,
     "metadata": {},
     "output_type": "execute_result"
    }
   ],
   "source": [
    "sorted(tuples, key = lambda x: x[1])"
   ]
  },
  {
   "cell_type": "markdown",
   "metadata": {},
   "source": [
    "# Decorators"
   ]
  },
  {
   "cell_type": "code",
   "execution_count": 121,
   "metadata": {},
   "outputs": [
    {
     "data": {
      "text/plain": [
       "'HELLO WORLD'"
      ]
     },
     "execution_count": 121,
     "metadata": {},
     "output_type": "execute_result"
    }
   ],
   "source": [
    "#decorator is used to modify existing function without rewriting it\n",
    "def uppercase(func):\n",
    "    def wrapper(text):\n",
    "        \"\"\"here goes wrong docs - wrapper's docs\"\"\"\n",
    "        original_result = func(text)\n",
    "        modified_result = original_result.upper()\n",
    "        return modified_result\n",
    "    return wrapper\n",
    "\n",
    "@uppercase\n",
    "def print_hw(text):\n",
    "    \"\"\"this is useful docs\"\"\"\n",
    "    return text\n",
    "\n",
    "print_hw('hello world')"
   ]
  },
  {
   "cell_type": "code",
   "execution_count": 126,
   "metadata": {},
   "outputs": [
    {
     "name": "stdout",
     "output_type": "stream",
     "text": [
      "DOCSTRINGS are wrong: \"here goes wrong docs - wrapper's docs\"\n",
      "and NAME is also wrong: \"wrapper\"\n"
     ]
    }
   ],
   "source": [
    "# there's a caveat:\n",
    "print('DOCSTRINGS are wrong: \"{}\"\\nand NAME is also wrong: \"{}\"'.format(print_hw.__doc__, print_hw.__name__))"
   ]
  },
  {
   "cell_type": "code",
   "execution_count": 130,
   "metadata": {},
   "outputs": [
    {
     "data": {
      "text/plain": [
       "'HELLO'"
      ]
     },
     "execution_count": 130,
     "metadata": {},
     "output_type": "execute_result"
    }
   ],
   "source": [
    "#the same as\n",
    "def upper_it(func):\n",
    "    orig = func()\n",
    "    modif = orig.upper()\n",
    "    return modif\n",
    "\n",
    "def greet():\n",
    "    \"\"\"return friendly greeting\"\"\"\n",
    "    return 'Hello'\n",
    "\n",
    "greets = upper_it(greet)\n",
    "greets"
   ]
  },
  {
   "cell_type": "code",
   "execution_count": 131,
   "metadata": {},
   "outputs": [
    {
     "data": {
      "text/plain": [
       "'return friendly greeting'"
      ]
     },
     "execution_count": 131,
     "metadata": {},
     "output_type": "execute_result"
    }
   ],
   "source": [
    "greet.__doc__"
   ]
  },
  {
   "cell_type": "markdown",
   "metadata": {},
   "source": [
    "### Nesting decorators "
   ]
  },
  {
   "cell_type": "code",
   "execution_count": 145,
   "metadata": {},
   "outputs": [
    {
     "data": {
      "text/plain": [
       "'<em><strong>hello from HTML!</strong></em>'"
      ]
     },
     "execution_count": 145,
     "metadata": {},
     "output_type": "execute_result"
    }
   ],
   "source": [
    "def strong(func):\n",
    "    def wrapper():\n",
    "        return '<strong>' + func() + '</strong>'\n",
    "    return wrapper\n",
    "\n",
    "def emphasis(func):\n",
    "    def wrapper():\n",
    "        return '<em>' + func() + '</em>'\n",
    "    return wrapper\n",
    "\n",
    "@emphasis\n",
    "@strong      \n",
    "def greet():\n",
    "    return 'hello from HTML!'\n",
    "greet()"
   ]
  },
  {
   "cell_type": "code",
   "execution_count": 141,
   "metadata": {},
   "outputs": [],
   "source": [
    "def trace(func):\n",
    "    def wrapper(*args, **kwargs):\n",
    "        '''not so much useful docs'''\n",
    "        print(f'TRACE: calling {func.__name__}() with {args}, {kwargs}')\n",
    "        original_result = func(*args, **kwargs)\n",
    "        print(f'TRACE: {func.__name__}() returned {original_result!r}')\n",
    "        return original_result\n",
    "    return wrapper\n",
    "              "
   ]
  },
  {
   "cell_type": "code",
   "execution_count": 142,
   "metadata": {},
   "outputs": [],
   "source": [
    "@trace\n",
    "def say(name, line):\n",
    "    '''VERY useful docs'''\n",
    "    return f'{name}, {line}'"
   ]
  },
  {
   "cell_type": "code",
   "execution_count": 156,
   "metadata": {},
   "outputs": [
    {
     "name": "stdout",
     "output_type": "stream",
     "text": [
      "TRACE: calling say() with ('Jane', 'hi!'), {}\n",
      "TRACE: say() returned 'Jane, hi!'\n",
      "not so much useful docs ----- > returns wrapper's docs\n",
      "wrapper --------------------  > returns wrapper's name\n"
     ]
    }
   ],
   "source": [
    "say('Jane', 'hi!')\n",
    "print(say.__doc__, \"----- > returns wrapper's docs\")\n",
    "print(say.__name__, \"--------------------  > returns wrapper's name\")"
   ]
  },
  {
   "cell_type": "markdown",
   "metadata": {},
   "source": [
    "### functools decorator workaround for docstrings"
   ]
  },
  {
   "cell_type": "code",
   "execution_count": 157,
   "metadata": {},
   "outputs": [
    {
     "data": {
      "text/plain": [
       "'HELLO WORLD'"
      ]
     },
     "execution_count": 157,
     "metadata": {},
     "output_type": "execute_result"
    }
   ],
   "source": [
    "from functools import wraps\n",
    "\n",
    "def uppercase(func):\n",
    "    @wraps(func)\n",
    "    def wrapper(text):\n",
    "        \"\"\"wrapper docs\"\"\"\n",
    "        original_result = func(text)\n",
    "        modified_result = original_result.upper()\n",
    "        return modified_result\n",
    "    return wrapper\n",
    "\n",
    "@uppercase\n",
    "def print_hw(text):\n",
    "    \"\"\"this is useful docs\"\"\"\n",
    "    return text\n",
    "\n",
    "print_hw('hello world')"
   ]
  },
  {
   "cell_type": "code",
   "execution_count": 158,
   "metadata": {},
   "outputs": [
    {
     "data": {
      "text/plain": [
       "'this is useful docs'"
      ]
     },
     "execution_count": 158,
     "metadata": {},
     "output_type": "execute_result"
    }
   ],
   "source": [
    "print_hw.__doc__"
   ]
  },
  {
   "cell_type": "code",
   "execution_count": 159,
   "metadata": {},
   "outputs": [
    {
     "data": {
      "text/plain": [
       "'print_hw'"
      ]
     },
     "execution_count": 159,
     "metadata": {},
     "output_type": "execute_result"
    }
   ],
   "source": [
    "print_hw.__name__"
   ]
  },
  {
   "cell_type": "markdown",
   "metadata": {},
   "source": [
    "### shallow and deep copies"
   ]
  },
  {
   "cell_type": "code",
   "execution_count": 170,
   "metadata": {},
   "outputs": [],
   "source": [
    "xs = [[1,2,3], [4,5,6], [7,8,9]]\n",
    "ys = list(xs) # shallow copy, has child objects (lists whithin list)"
   ]
  },
  {
   "cell_type": "code",
   "execution_count": 171,
   "metadata": {},
   "outputs": [
    {
     "data": {
      "text/plain": [
       "1883577920"
      ]
     },
     "execution_count": 171,
     "metadata": {},
     "output_type": "execute_result"
    }
   ],
   "source": [
    "id(xs)"
   ]
  },
  {
   "cell_type": "code",
   "execution_count": 172,
   "metadata": {},
   "outputs": [
    {
     "data": {
      "text/plain": [
       "1882935824"
      ]
     },
     "execution_count": 172,
     "metadata": {},
     "output_type": "execute_result"
    }
   ],
   "source": [
    "id(ys)"
   ]
  },
  {
   "cell_type": "code",
   "execution_count": 176,
   "metadata": {},
   "outputs": [],
   "source": [
    "xs[0][1]='X'"
   ]
  },
  {
   "cell_type": "code",
   "execution_count": 177,
   "metadata": {},
   "outputs": [
    {
     "name": "stdout",
     "output_type": "stream",
     "text": [
      "[[1, 'X', 3], [4, 5, 6], [7, 8, 9]]\n"
     ]
    }
   ],
   "source": [
    "print(ys)"
   ]
  },
  {
   "cell_type": "code",
   "execution_count": 185,
   "metadata": {},
   "outputs": [
    {
     "name": "stdout",
     "output_type": "stream",
     "text": [
      "    2112\n"
     ]
    }
   ],
   "source": [
    "s = 2112\n",
    "y = 8\n",
    "print(f'{s:>{y}}')"
   ]
  },
  {
   "cell_type": "code",
   "execution_count": 186,
   "metadata": {},
   "outputs": [],
   "source": [
    "import copy\n",
    "zs = copy.deepcopy(xs)"
   ]
  },
  {
   "cell_type": "code",
   "execution_count": 187,
   "metadata": {},
   "outputs": [
    {
     "data": {
      "text/plain": [
       "[[1, 'X', 3], [4, 5, 6], [7, 8, 9]]"
      ]
     },
     "execution_count": 187,
     "metadata": {},
     "output_type": "execute_result"
    }
   ],
   "source": [
    "zs"
   ]
  },
  {
   "cell_type": "code",
   "execution_count": 188,
   "metadata": {},
   "outputs": [],
   "source": [
    "xs[0][1] = 'Y'"
   ]
  },
  {
   "cell_type": "code",
   "execution_count": 189,
   "metadata": {},
   "outputs": [
    {
     "data": {
      "text/plain": [
       "[[1, 'X', 3], [4, 5, 6], [7, 8, 9]]"
      ]
     },
     "execution_count": 189,
     "metadata": {},
     "output_type": "execute_result"
    }
   ],
   "source": [
    "zs"
   ]
  },
  {
   "cell_type": "code",
   "execution_count": 191,
   "metadata": {},
   "outputs": [
    {
     "data": {
      "text/plain": [
       "[[1, 'Y', 3], [4, 5, 6], [7, 8, 9]]"
      ]
     },
     "execution_count": 191,
     "metadata": {},
     "output_type": "execute_result"
    }
   ],
   "source": [
    "xs"
   ]
  },
  {
   "cell_type": "code",
   "execution_count": 199,
   "metadata": {},
   "outputs": [
    {
     "name": "stdout",
     "output_type": "stream",
     "text": [
      "Point(1, 2)\n",
      "Point(1, 2)\n",
      "False\n"
     ]
    }
   ],
   "source": [
    "# copying objects\n",
    "class Point:\n",
    "    def __init__(self, x, y):\n",
    "        self.x = x\n",
    "        self.y = y\n",
    "        \n",
    "    def __repr__(self):\n",
    "        return f'Point({self.x!r}, {self.y!r})'\n",
    "    \n",
    "p = Point(1,2)\n",
    "print(p)\n",
    "s = copy.copy(p)\n",
    "print(s)\n",
    "print(s is p)"
   ]
  },
  {
   "cell_type": "code",
   "execution_count": 204,
   "metadata": {},
   "outputs": [
    {
     "name": "stdout",
     "output_type": "stream",
     "text": [
      "Rectangle(Point(0, 1), Point(5, 6)) Rectangle(Point(0, 1), Point(5, 6))\n"
     ]
    },
    {
     "data": {
      "text/plain": [
       "False"
      ]
     },
     "execution_count": 204,
     "metadata": {},
     "output_type": "execute_result"
    }
   ],
   "source": [
    "class Rectangle:\n",
    "    def __init__(self, topleft, bottomright):\n",
    "        self.topleft = topleft\n",
    "        self.bottomright = bottomright\n",
    "        \n",
    "    def __repr__(self):\n",
    "        return (f'Rectangle({self.topleft!r}, {self.bottomright!r})')\n",
    "    \n",
    "rect = Rectangle(Point(0,1), Point(5,6))\n",
    "srect = copy.copy(rect)\n",
    "print(rect, srect)\n",
    "rect == srect"
   ]
  },
  {
   "cell_type": "code",
   "execution_count": 205,
   "metadata": {},
   "outputs": [
    {
     "data": {
      "text/plain": [
       "Rectangle(Point(999, 1), Point(5, 6))"
      ]
     },
     "execution_count": 205,
     "metadata": {},
     "output_type": "execute_result"
    }
   ],
   "source": [
    "rect.topleft.x = 999\n",
    "rect"
   ]
  },
  {
   "cell_type": "code",
   "execution_count": 206,
   "metadata": {},
   "outputs": [
    {
     "data": {
      "text/plain": [
       "Rectangle(Point(999, 1), Point(5, 6))"
      ]
     },
     "execution_count": 206,
     "metadata": {},
     "output_type": "execute_result"
    }
   ],
   "source": [
    "srect"
   ]
  },
  {
   "cell_type": "code",
   "execution_count": 211,
   "metadata": {},
   "outputs": [
    {
     "name": "stdout",
     "output_type": "stream",
     "text": [
      "Rectangle(Point(999, 1), Point(5, 6)) Rectangle(Point(999, 1), Point(5, 6)) Rectangle(Point(222, 1), Point(5, 6))\n"
     ]
    }
   ],
   "source": [
    "drect = copy.deepcopy(srect)\n",
    "drect.topleft.x = 222\n",
    "print(rect, srect, drect)"
   ]
  },
  {
   "cell_type": "code",
   "execution_count": 1,
   "metadata": {},
   "outputs": [],
   "source": [
    "class Pizza:\n",
    "    def __init__(self, ingredients):\n",
    "        self.ingredients = ingredients\n",
    "\n",
    "    def __repr__(self):\n",
    "        return f'Pizza({self.ingredients!r})'\n",
    "\n",
    "    @classmethod\n",
    "    def margherita(cls):\n",
    "        return cls(['mozzarella', 'tomatoes'])\n",
    "\n",
    "    @classmethod\n",
    "    def prosciutto(cls):\n",
    "        return cls(['mozzarella', 'tomatoes', 'ham'])"
   ]
  },
  {
   "cell_type": "code",
   "execution_count": 3,
   "metadata": {},
   "outputs": [
    {
     "name": "stdout",
     "output_type": "stream",
     "text": [
      "Pizza(['mozzarella', 'tomatoes'])\n"
     ]
    }
   ],
   "source": [
    "pm = Pizza.margherita()\n",
    "print(pm)"
   ]
  },
  {
   "cell_type": "code",
   "execution_count": 25,
   "metadata": {},
   "outputs": [
    {
     "name": "stdout",
     "output_type": "stream",
     "text": [
      "Pizza(radius: 4, ingredients: ['mozzarella', 'tomatoes'])\n"
     ]
    }
   ],
   "source": [
    "import math\n",
    "class Pizza:\n",
    "    def __init__(self, radius, ingredients):\n",
    "        self.ingredients = ingredients\n",
    "        self.radius = radius\n",
    "\n",
    "    def __repr__(self):\n",
    "        return f'Pizza(radius: {self.radius!r}, ingredients: {self.ingredients!r})'\n",
    "    \n",
    "    def area(self):\n",
    "        return self.circle_area(self.radius)\n",
    "    \n",
    "    @staticmethod\n",
    "    def circle_area(r):\n",
    "        return r**2*math.pi\n",
    "    \n",
    "    @classmethod\n",
    "    def margherita(cls):\n",
    "        return cls(['mozzarella', 'tomatoes'])\n",
    "\n",
    "    @classmethod\n",
    "    def prosciutto(cls):\n",
    "        return cls(['mozzarella', 'tomatoes', 'ham'])\n",
    "    \n",
    "p = Pizza(4, ['mozzarella', 'tomatoes'])\n",
    "print(p)"
   ]
  },
  {
   "cell_type": "code",
   "execution_count": 26,
   "metadata": {},
   "outputs": [
    {
     "data": {
      "text/plain": [
       "Pizza(radius: 4, ingredients: ['mozzarella', 'tomatoes'])"
      ]
     },
     "execution_count": 26,
     "metadata": {},
     "output_type": "execute_result"
    }
   ],
   "source": [
    "p"
   ]
  },
  {
   "cell_type": "code",
   "execution_count": 27,
   "metadata": {},
   "outputs": [
    {
     "data": {
      "text/plain": [
       "50.26548245743669"
      ]
     },
     "execution_count": 27,
     "metadata": {},
     "output_type": "execute_result"
    }
   ],
   "source": [
    "Pizza.circle_area(4)"
   ]
  },
  {
   "cell_type": "code",
   "execution_count": 28,
   "metadata": {},
   "outputs": [
    {
     "data": {
      "text/plain": [
       "50.26548245743669"
      ]
     },
     "execution_count": 28,
     "metadata": {},
     "output_type": "execute_result"
    }
   ],
   "source": [
    "p.area()"
   ]
  },
  {
   "cell_type": "code",
   "execution_count": null,
   "metadata": {},
   "outputs": [],
   "source": []
  }
 ],
 "metadata": {
  "kernelspec": {
   "display_name": "Python 3",
   "language": "python",
   "name": "python3"
  },
  "language_info": {
   "codemirror_mode": {
    "name": "ipython",
    "version": 3
   },
   "file_extension": ".py",
   "mimetype": "text/x-python",
   "name": "python",
   "nbconvert_exporter": "python",
   "pygments_lexer": "ipython3",
   "version": "3.7.1"
  }
 },
 "nbformat": 4,
 "nbformat_minor": 2
}
