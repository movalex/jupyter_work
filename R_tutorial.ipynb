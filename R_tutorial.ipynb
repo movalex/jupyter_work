{
 "cells": [
  {
   "cell_type": "markdown",
   "metadata": {},
   "source": [
    "### [R Tutorial](http://www.cyclismo.org/tutorial/R/input.html)"
   ]
  },
  {
   "cell_type": "code",
   "execution_count": 3,
   "metadata": {
    "scrolled": true
   },
   "outputs": [
    {
     "data": {
      "text/html": [
       "<ol class=list-inline>\n",
       "\t<li>3</li>\n",
       "\t<li>5</li>\n",
       "\t<li>2</li>\n",
       "\t<li>33</li>\n",
       "</ol>\n"
      ],
      "text/latex": [
       "\\begin{enumerate*}\n",
       "\\item 3\n",
       "\\item 5\n",
       "\\item 2\n",
       "\\item 33\n",
       "\\end{enumerate*}\n"
      ],
      "text/markdown": [
       "1. 3\n",
       "2. 5\n",
       "3. 2\n",
       "4. 33\n",
       "\n",
       "\n"
      ],
      "text/plain": [
       "[1]  3  5  2 33"
      ]
     },
     "metadata": {},
     "output_type": "display_data"
    }
   ],
   "source": [
    "bubba <- c(3,5,2,33)\n",
    "bubba"
   ]
  },
  {
   "cell_type": "code",
   "execution_count": 4,
   "metadata": {},
   "outputs": [
    {
     "data": {
      "text/html": [
       "5"
      ],
      "text/latex": [
       "5"
      ],
      "text/markdown": [
       "5"
      ],
      "text/plain": [
       "[1] 5"
      ]
     },
     "metadata": {},
     "output_type": "display_data"
    }
   ],
   "source": [
    "bubba[2]"
   ]
  },
  {
   "cell_type": "code",
   "execution_count": 2,
   "metadata": {
    "collapsed": true
   },
   "outputs": [],
   "source": [
    "hz <- read.csv(file = \"simple.csv\", head=TRUE, sep=\",\")"
   ]
  },
  {
   "cell_type": "code",
   "execution_count": 3,
   "metadata": {},
   "outputs": [
    {
     "data": {
      "text/plain": [
       " trial      mass          velocity    \n",
       " A:3   Min.   : 5.00   Min.   : 8.00  \n",
       " B:3   1st Qu.: 6.25   1st Qu.:10.25  \n",
       "       Median : 8.50   Median :11.50  \n",
       "       Mean   : 8.25   Mean   :11.33  \n",
       "       3rd Qu.:10.38   3rd Qu.:12.75  \n",
       "       Max.   :11.00   Max.   :14.00  "
      ]
     },
     "metadata": {},
     "output_type": "display_data"
    }
   ],
   "source": [
    "summary(hz)"
   ]
  },
  {
   "cell_type": "code",
   "execution_count": 4,
   "metadata": {
    "collapsed": true
   },
   "outputs": [],
   "source": [
    "help(read.csv)"
   ]
  },
  {
   "cell_type": "code",
   "execution_count": 1,
   "metadata": {},
   "outputs": [
    {
     "data": {
      "text/html": [
       "<ol class=list-inline>\n",
       "\t<li>'_python_test.ipynb'</li>\n",
       "\t<li>'app'</li>\n",
       "\t<li>'artist500'</li>\n",
       "\t<li>'BLOG'</li>\n",
       "\t<li>'calc_pi.ipynb'</li>\n",
       "\t<li>'check Int.ipynb'</li>\n",
       "\t<li>'CODEWARS.ipynb'</li>\n",
       "\t<li>'fixedWidth.dat'</li>\n",
       "\t<li>'Hackerrank Algorithms.ipynb'</li>\n",
       "\t<li>'jpd_Docker_run.sh'</li>\n",
       "\t<li>'jpt.ipynb'</li>\n",
       "\t<li>'Julia'</li>\n",
       "\t<li>'LeadingZeroes.py.ipynb'</li>\n",
       "\t<li>'markdown_reference.ipynb'</li>\n",
       "\t<li>'matplotlib.ipynb'</li>\n",
       "\t<li>'MPL_pi.ipynb'</li>\n",
       "\t<li>'not_searched'</li>\n",
       "\t<li>'out01.txt'</li>\n",
       "\t<li>'pandas.ipynb'</li>\n",
       "\t<li>'pi_run_julia.sh'</li>\n",
       "\t<li>'Pluralsight Beyond Basics.ipynb'</li>\n",
       "\t<li>'python_passwds.ipynb'</li>\n",
       "\t<li>'R_tutorial.ipynb'</li>\n",
       "\t<li>'README.md'</li>\n",
       "\t<li>'rpi_jupyter-Readme.ipynb'</li>\n",
       "\t<li>'rpi_jupyter-Readme.ipynb.textClipping'</li>\n",
       "\t<li>'simple.csv'</li>\n",
       "\t<li>'songQuery333.txt'</li>\n",
       "\t<li>'trees91.csv'</li>\n",
       "\t<li>'Udacity Algorithms.ipynb'</li>\n",
       "\t<li>'Untitled Folder'</li>\n",
       "</ol>\n"
      ],
      "text/latex": [
       "\\begin{enumerate*}\n",
       "\\item '\\_python\\_test.ipynb'\n",
       "\\item 'app'\n",
       "\\item 'artist500'\n",
       "\\item 'BLOG'\n",
       "\\item 'calc\\_pi.ipynb'\n",
       "\\item 'check Int.ipynb'\n",
       "\\item 'CODEWARS.ipynb'\n",
       "\\item 'fixedWidth.dat'\n",
       "\\item 'Hackerrank Algorithms.ipynb'\n",
       "\\item 'jpd\\_Docker\\_run.sh'\n",
       "\\item 'jpt.ipynb'\n",
       "\\item 'Julia'\n",
       "\\item 'LeadingZeroes.py.ipynb'\n",
       "\\item 'markdown\\_reference.ipynb'\n",
       "\\item 'matplotlib.ipynb'\n",
       "\\item 'MPL\\_pi.ipynb'\n",
       "\\item 'not\\_searched'\n",
       "\\item 'out01.txt'\n",
       "\\item 'pandas.ipynb'\n",
       "\\item 'pi\\_run\\_julia.sh'\n",
       "\\item 'Pluralsight Beyond Basics.ipynb'\n",
       "\\item 'python\\_passwds.ipynb'\n",
       "\\item 'R\\_tutorial.ipynb'\n",
       "\\item 'README.md'\n",
       "\\item 'rpi\\_jupyter-Readme.ipynb'\n",
       "\\item 'rpi\\_jupyter-Readme.ipynb.textClipping'\n",
       "\\item 'simple.csv'\n",
       "\\item 'songQuery333.txt'\n",
       "\\item 'trees91.csv'\n",
       "\\item 'Udacity Algorithms.ipynb'\n",
       "\\item 'Untitled Folder'\n",
       "\\end{enumerate*}\n"
      ],
      "text/markdown": [
       "1. '_python_test.ipynb'\n",
       "2. 'app'\n",
       "3. 'artist500'\n",
       "4. 'BLOG'\n",
       "5. 'calc_pi.ipynb'\n",
       "6. 'check Int.ipynb'\n",
       "7. 'CODEWARS.ipynb'\n",
       "8. 'fixedWidth.dat'\n",
       "9. 'Hackerrank Algorithms.ipynb'\n",
       "10. 'jpd_Docker_run.sh'\n",
       "11. 'jpt.ipynb'\n",
       "12. 'Julia'\n",
       "13. 'LeadingZeroes.py.ipynb'\n",
       "14. 'markdown_reference.ipynb'\n",
       "15. 'matplotlib.ipynb'\n",
       "16. 'MPL_pi.ipynb'\n",
       "17. 'not_searched'\n",
       "18. 'out01.txt'\n",
       "19. 'pandas.ipynb'\n",
       "20. 'pi_run_julia.sh'\n",
       "21. 'Pluralsight Beyond Basics.ipynb'\n",
       "22. 'python_passwds.ipynb'\n",
       "23. 'R_tutorial.ipynb'\n",
       "24. 'README.md'\n",
       "25. 'rpi_jupyter-Readme.ipynb'\n",
       "26. 'rpi_jupyter-Readme.ipynb.textClipping'\n",
       "27. 'simple.csv'\n",
       "28. 'songQuery333.txt'\n",
       "29. 'trees91.csv'\n",
       "30. 'Udacity Algorithms.ipynb'\n",
       "31. 'Untitled Folder'\n",
       "\n",
       "\n"
      ],
      "text/plain": [
       " [1] \"_python_test.ipynb\"                   \n",
       " [2] \"app\"                                  \n",
       " [3] \"artist500\"                            \n",
       " [4] \"BLOG\"                                 \n",
       " [5] \"calc_pi.ipynb\"                        \n",
       " [6] \"check Int.ipynb\"                      \n",
       " [7] \"CODEWARS.ipynb\"                       \n",
       " [8] \"fixedWidth.dat\"                       \n",
       " [9] \"Hackerrank Algorithms.ipynb\"          \n",
       "[10] \"jpd_Docker_run.sh\"                    \n",
       "[11] \"jpt.ipynb\"                            \n",
       "[12] \"Julia\"                                \n",
       "[13] \"LeadingZeroes.py.ipynb\"               \n",
       "[14] \"markdown_reference.ipynb\"             \n",
       "[15] \"matplotlib.ipynb\"                     \n",
       "[16] \"MPL_pi.ipynb\"                         \n",
       "[17] \"not_searched\"                         \n",
       "[18] \"out01.txt\"                            \n",
       "[19] \"pandas.ipynb\"                         \n",
       "[20] \"pi_run_julia.sh\"                      \n",
       "[21] \"Pluralsight Beyond Basics.ipynb\"      \n",
       "[22] \"python_passwds.ipynb\"                 \n",
       "[23] \"R_tutorial.ipynb\"                     \n",
       "[24] \"README.md\"                            \n",
       "[25] \"rpi_jupyter-Readme.ipynb\"             \n",
       "[26] \"rpi_jupyter-Readme.ipynb.textClipping\"\n",
       "[27] \"simple.csv\"                           \n",
       "[28] \"songQuery333.txt\"                     \n",
       "[29] \"trees91.csv\"                          \n",
       "[30] \"Udacity Algorithms.ipynb\"             \n",
       "[31] \"Untitled Folder\"                      "
      ]
     },
     "metadata": {},
     "output_type": "display_data"
    }
   ],
   "source": [
    "dir()"
   ]
  },
  {
   "cell_type": "code",
   "execution_count": 5,
   "metadata": {},
   "outputs": [
    {
     "data": {
      "text/html": [
       "'/home/jovyan/work'"
      ],
      "text/latex": [
       "'/home/jovyan/work'"
      ],
      "text/markdown": [
       "'/home/jovyan/work'"
      ],
      "text/plain": [
       "[1] \"/home/jovyan/work\""
      ]
     },
     "metadata": {},
     "output_type": "display_data"
    }
   ],
   "source": [
    "getwd()"
   ]
  },
  {
   "cell_type": "code",
   "execution_count": null,
   "metadata": {
    "collapsed": true
   },
   "outputs": [],
   "source": [
    "hz$trial\n",
    "attributes(hz)"
   ]
  },
  {
   "cell_type": "code",
   "execution_count": null,
   "metadata": {
    "collapsed": true
   },
   "outputs": [],
   "source": [
    "names(hz)"
   ]
  },
  {
   "cell_type": "code",
   "execution_count": 1,
   "metadata": {
    "collapsed": true
   },
   "outputs": [],
   "source": [
    "tree <- read.csv(file=\"trees91.csv\", header = TRUE, sep=\",\")"
   ]
  },
  {
   "cell_type": "code",
   "execution_count": null,
   "metadata": {
    "collapsed": true,
    "scrolled": true
   },
   "outputs": [],
   "source": [
    "attributes(tree)\n",
    "names(tree)"
   ]
  },
  {
   "cell_type": "code",
   "execution_count": null,
   "metadata": {
    "collapsed": true
   },
   "outputs": [],
   "source": [
    "tree$REP"
   ]
  },
  {
   "cell_type": "code",
   "execution_count": null,
   "metadata": {
    "collapsed": true
   },
   "outputs": [],
   "source": [
    "help(read.fwf)"
   ]
  },
  {
   "cell_type": "code",
   "execution_count": null,
   "metadata": {
    "collapsed": true
   },
   "outputs": [],
   "source": [
    "a <- 3\n",
    "b <- sqrt(a*3+3)\n",
    "b"
   ]
  },
  {
   "cell_type": "code",
   "execution_count": null,
   "metadata": {
    "collapsed": true
   },
   "outputs": [],
   "source": [
    "ls()"
   ]
  },
  {
   "cell_type": "code",
   "execution_count": null,
   "metadata": {
    "collapsed": true
   },
   "outputs": [],
   "source": [
    "a <- c(1,2,3,4,5)\n",
    "a[2:5]"
   ]
  },
  {
   "cell_type": "code",
   "execution_count": null,
   "metadata": {
    "collapsed": true
   },
   "outputs": [],
   "source": [
    "a <- numeric(4)\n",
    "typeof(a)\n",
    "a"
   ]
  },
  {
   "cell_type": "code",
   "execution_count": null,
   "metadata": {
    "collapsed": true
   },
   "outputs": [],
   "source": [
    "b <- c('hello', 'there')\n",
    "b[1]"
   ]
  },
  {
   "cell_type": "code",
   "execution_count": null,
   "metadata": {
    "collapsed": true
   },
   "outputs": [],
   "source": [
    "a = character(22)\n",
    "typeof(a)"
   ]
  },
  {
   "cell_type": "code",
   "execution_count": null,
   "metadata": {
    "collapsed": true
   },
   "outputs": [],
   "source": [
    "summary(tree$CHBR)\n"
   ]
  },
  {
   "cell_type": "code",
   "execution_count": null,
   "metadata": {
    "collapsed": true
   },
   "outputs": [],
   "source": [
    "tree$C"
   ]
  },
  {
   "cell_type": "code",
   "execution_count": null,
   "metadata": {
    "collapsed": true
   },
   "outputs": [],
   "source": [
    "summary(tree$C)"
   ]
  },
  {
   "cell_type": "code",
   "execution_count": null,
   "metadata": {
    "collapsed": true
   },
   "outputs": [],
   "source": [
    "tree$C"
   ]
  },
  {
   "cell_type": "code",
   "execution_count": 2,
   "metadata": {},
   "outputs": [
    {
     "data": {
      "text/html": [
       "<ol class=list-inline>\n",
       "\t<li>1</li>\n",
       "\t<li>1</li>\n",
       "\t<li>1</li>\n",
       "\t<li>1</li>\n",
       "\t<li>1</li>\n",
       "\t<li>1</li>\n",
       "\t<li>1</li>\n",
       "\t<li>1</li>\n",
       "\t<li>2</li>\n",
       "\t<li>2</li>\n",
       "\t<li>2</li>\n",
       "\t<li>2</li>\n",
       "\t<li>2</li>\n",
       "\t<li>2</li>\n",
       "\t<li>2</li>\n",
       "\t<li>2</li>\n",
       "\t<li>2</li>\n",
       "\t<li>2</li>\n",
       "\t<li>2</li>\n",
       "\t<li>2</li>\n",
       "\t<li>2</li>\n",
       "\t<li>2</li>\n",
       "\t<li>2</li>\n",
       "\t<li>2</li>\n",
       "\t<li>2</li>\n",
       "\t<li>2</li>\n",
       "\t<li>2</li>\n",
       "\t<li>2</li>\n",
       "\t<li>2</li>\n",
       "\t<li>2</li>\n",
       "\t<li>2</li>\n",
       "\t<li>3</li>\n",
       "\t<li>3</li>\n",
       "\t<li>3</li>\n",
       "\t<li>3</li>\n",
       "\t<li>3</li>\n",
       "\t<li>3</li>\n",
       "\t<li>3</li>\n",
       "\t<li>3</li>\n",
       "\t<li>3</li>\n",
       "\t<li>3</li>\n",
       "\t<li>4</li>\n",
       "\t<li>4</li>\n",
       "\t<li>4</li>\n",
       "\t<li>4</li>\n",
       "\t<li>4</li>\n",
       "\t<li>4</li>\n",
       "\t<li>4</li>\n",
       "\t<li>4</li>\n",
       "\t<li>4</li>\n",
       "\t<li>4</li>\n",
       "\t<li>4</li>\n",
       "\t<li>4</li>\n",
       "\t<li>D</li>\n",
       "</ol>\n"
      ],
      "text/latex": [
       "\\begin{enumerate*}\n",
       "\\item 1\n",
       "\\item 1\n",
       "\\item 1\n",
       "\\item 1\n",
       "\\item 1\n",
       "\\item 1\n",
       "\\item 1\n",
       "\\item 1\n",
       "\\item 2\n",
       "\\item 2\n",
       "\\item 2\n",
       "\\item 2\n",
       "\\item 2\n",
       "\\item 2\n",
       "\\item 2\n",
       "\\item 2\n",
       "\\item 2\n",
       "\\item 2\n",
       "\\item 2\n",
       "\\item 2\n",
       "\\item 2\n",
       "\\item 2\n",
       "\\item 2\n",
       "\\item 2\n",
       "\\item 2\n",
       "\\item 2\n",
       "\\item 2\n",
       "\\item 2\n",
       "\\item 2\n",
       "\\item 2\n",
       "\\item 2\n",
       "\\item 3\n",
       "\\item 3\n",
       "\\item 3\n",
       "\\item 3\n",
       "\\item 3\n",
       "\\item 3\n",
       "\\item 3\n",
       "\\item 3\n",
       "\\item 3\n",
       "\\item 3\n",
       "\\item 4\n",
       "\\item 4\n",
       "\\item 4\n",
       "\\item 4\n",
       "\\item 4\n",
       "\\item 4\n",
       "\\item 4\n",
       "\\item 4\n",
       "\\item 4\n",
       "\\item 4\n",
       "\\item 4\n",
       "\\item 4\n",
       "\\item D\n",
       "\\end{enumerate*}\n"
      ],
      "text/markdown": [
       "1. 1\n",
       "2. 1\n",
       "3. 1\n",
       "4. 1\n",
       "5. 1\n",
       "6. 1\n",
       "7. 1\n",
       "8. 1\n",
       "9. 2\n",
       "10. 2\n",
       "11. 2\n",
       "12. 2\n",
       "13. 2\n",
       "14. 2\n",
       "15. 2\n",
       "16. 2\n",
       "17. 2\n",
       "18. 2\n",
       "19. 2\n",
       "20. 2\n",
       "21. 2\n",
       "22. 2\n",
       "23. 2\n",
       "24. 2\n",
       "25. 2\n",
       "26. 2\n",
       "27. 2\n",
       "28. 2\n",
       "29. 2\n",
       "30. 2\n",
       "31. 2\n",
       "32. 3\n",
       "33. 3\n",
       "34. 3\n",
       "35. 3\n",
       "36. 3\n",
       "37. 3\n",
       "38. 3\n",
       "39. 3\n",
       "40. 3\n",
       "41. 3\n",
       "42. 4\n",
       "43. 4\n",
       "44. 4\n",
       "45. 4\n",
       "46. 4\n",
       "47. 4\n",
       "48. 4\n",
       "49. 4\n",
       "50. 4\n",
       "51. 4\n",
       "52. 4\n",
       "53. 4\n",
       "54. D\n",
       "\n",
       "\n"
      ],
      "text/plain": [
       " [1] 1 1 1 1 1 1 1 1 2 2 2 2 2 2 2 2 2 2 2 2 2 2 2 2 2 2 2 2 2 2 2 3 3 3 3 3 3 3\n",
       "[39] 3 3 3 4 4 4 4 4 4 4 4 4 4 4 4 D\n",
       "Levels: 1 2 3 4 D"
      ]
     },
     "metadata": {},
     "output_type": "display_data"
    },
    {
     "data": {
      "text/html": [
       "FALSE"
      ],
      "text/latex": [
       "FALSE"
      ],
      "text/markdown": [
       "FALSE"
      ],
      "text/plain": [
       "[1] FALSE"
      ]
     },
     "metadata": {},
     "output_type": "display_data"
    },
    {
     "data": {
      "text/html": [
       "TRUE"
      ],
      "text/latex": [
       "TRUE"
      ],
      "text/markdown": [
       "TRUE"
      ],
      "text/plain": [
       "[1] TRUE"
      ]
     },
     "metadata": {},
     "output_type": "display_data"
    },
    {
     "data": {
      "text/html": [
       "<ol class=list-inline>\n",
       "\t<li>'1'</li>\n",
       "\t<li>'2'</li>\n",
       "\t<li>'3'</li>\n",
       "\t<li>'4'</li>\n",
       "\t<li>'D'</li>\n",
       "</ol>\n"
      ],
      "text/latex": [
       "\\begin{enumerate*}\n",
       "\\item '1'\n",
       "\\item '2'\n",
       "\\item '3'\n",
       "\\item '4'\n",
       "\\item 'D'\n",
       "\\end{enumerate*}\n"
      ],
      "text/markdown": [
       "1. '1'\n",
       "2. '2'\n",
       "3. '3'\n",
       "4. '4'\n",
       "5. 'D'\n",
       "\n",
       "\n"
      ],
      "text/plain": [
       "[1] \"1\" \"2\" \"3\" \"4\" \"D\""
      ]
     },
     "metadata": {},
     "output_type": "display_data"
    },
    {
     "data": {
      "text/html": [
       "<dl class=dl-horizontal>\n",
       "\t<dt>1</dt>\n",
       "\t\t<dd>8</dd>\n",
       "\t<dt>2</dt>\n",
       "\t\t<dd>23</dd>\n",
       "\t<dt>3</dt>\n",
       "\t\t<dd>10</dd>\n",
       "\t<dt>4</dt>\n",
       "\t\t<dd>12</dd>\n",
       "\t<dt>D</dt>\n",
       "\t\t<dd>1</dd>\n",
       "</dl>\n"
      ],
      "text/latex": [
       "\\begin{description*}\n",
       "\\item[1] 8\n",
       "\\item[2] 23\n",
       "\\item[3] 10\n",
       "\\item[4] 12\n",
       "\\item[D] 1\n",
       "\\end{description*}\n"
      ],
      "text/markdown": [
       "1\n",
       ":   82\n",
       ":   233\n",
       ":   104\n",
       ":   12D\n",
       ":   1\n",
       "\n"
      ],
      "text/plain": [
       " 1  2  3  4  D \n",
       " 8 23 10 12  1 "
      ]
     },
     "metadata": {},
     "output_type": "display_data"
    }
   ],
   "source": [
    "tree$C <- factor(tree$C)\n",
    "tree$C\n",
    "is.ordered(tree$C)\n",
    "is.factor(tree$C)\n",
    "levels(tree$C)\n",
    "summary(tree$C)"
   ]
  }
 ],
 "metadata": {
  "kernelspec": {
   "display_name": "R",
   "language": "R",
   "name": "ir"
  },
  "language_info": {
   "codemirror_mode": "r",
   "file_extension": ".r",
   "mimetype": "text/x-r-source",
   "name": "R",
   "pygments_lexer": "r",
   "version": "3.3.2"
  }
 },
 "nbformat": 4,
 "nbformat_minor": 2
}
